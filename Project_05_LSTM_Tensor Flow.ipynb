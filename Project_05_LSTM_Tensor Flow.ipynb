{
 "cells": [
  {
   "cell_type": "code",
   "execution_count": 1,
   "id": "a9a1f8cb",
   "metadata": {},
   "outputs": [],
   "source": [
    "# This code is inspired from https://www.kaggle.com/code/kmkarakaya/lstm-output-types-return-sequences-state"
   ]
  },
  {
   "cell_type": "code",
   "execution_count": 2,
   "id": "617980ef",
   "metadata": {},
   "outputs": [],
   "source": [
    "from tensorflow.keras import models\n",
    "import numpy as np\n",
    "from tensorflow.keras.models import Sequential, Model\n",
    "from tensorflow.keras.layers import LSTM, Input\n",
    "from tensorflow.keras import Input"
   ]
  },
  {
   "cell_type": "code",
   "execution_count": null,
   "id": "aa81d1fa",
   "metadata": {},
   "outputs": [],
   "source": []
  },
  {
   "cell_type": "markdown",
   "id": "6842e9f6",
   "metadata": {},
   "source": [
    "# 1. LSTM Default return value:"
   ]
  },
  {
   "cell_type": "code",
   "execution_count": 3,
   "id": "b45b9c3e",
   "metadata": {},
   "outputs": [],
   "source": [
    "# Output is only the hidden state at the last time step.\n",
    "\n",
    "# Because return_sequences and return_states parameters are default (False).\n",
    "\n",
    "# The size of output is 2D array of real numbers.\n",
    "\n",
    "# The first dimension is indicating the number of samples in the batch given to the LSTM layer\n",
    "\n",
    "# The second dimension is the dimensionality of the output space defined by the units parameter in Keras LSTM implementation."
   ]
  },
  {
   "cell_type": "markdown",
   "id": "122b5e68",
   "metadata": {},
   "source": [
    "# Example Code"
   ]
  },
  {
   "cell_type": "code",
   "execution_count": 4,
   "id": "e609746d",
   "metadata": {},
   "outputs": [],
   "source": [
    "# Since, in the following examples, the LSTM unit parameter (dimensionality of the output space) is set to 5, \n",
    "# the last hidden state will have a dimension of 5.\n",
    "\n",
    "# Therefore, the Output Shape becomes (None, 5) & output is a tensor for 5 real numbers for each sample in the batch!\n",
    "# None is placeholder for the batch_size"
   ]
  },
  {
   "cell_type": "code",
   "execution_count": 7,
   "id": "0f472812",
   "metadata": {},
   "outputs": [],
   "source": [
    "timesteps = 3  # T\n",
    "features = 4   # D\n",
    "LSTMunits= 5  # Hidden size\n",
    "Batchsize = 1\n",
    "\n",
    "X = np.random.randn(Batchsize, timesteps, features) # N x T x D"
   ]
  },
  {
   "cell_type": "code",
   "execution_count": 8,
   "id": "20ce84ed",
   "metadata": {},
   "outputs": [
    {
     "name": "stdout",
     "output_type": "stream",
     "text": [
      "Model: \"model\"\n",
      "_________________________________________________________________\n",
      " Layer (type)                Output Shape              Param #   \n",
      "=================================================================\n",
      " input_1 (InputLayer)        [(None, 3, 4)]            0         \n",
      "                                                                 \n",
      " lstm (LSTM)                 (None, 5)                 200       \n",
      "                                                                 \n",
      "=================================================================\n",
      "Total params: 200\n",
      "Trainable params: 200\n",
      "Non-trainable params: 0\n",
      "_________________________________________________________________\n"
     ]
    }
   ],
   "source": [
    "input =Input(shape = (timesteps, features))\n",
    "hidden = LSTM(LSTMunits) (input)\n",
    "model1 = Model(inputs = input, outputs = hidden)\n",
    "model1.summary()"
   ]
  },
  {
   "cell_type": "code",
   "execution_count": 9,
   "id": "f17c0b92",
   "metadata": {},
   "outputs": [
    {
     "name": "stdout",
     "output_type": "stream",
     "text": [
      "1/1 [==============================] - 2s 2s/step\n",
      "input shape:   (1, 3, 4)\n",
      " \n",
      "[[ 0.30890232 -0.01780718  0.3366223  -0.07549541  0.05742521]]\n",
      " \n",
      "output shape:  (1, 5)\n"
     ]
    }
   ],
   "source": [
    "output = model1.predict(X) # output is only the hidden state of the last time step.\n",
    "print('input shape:  ', X.shape) \n",
    "print(\" \")\n",
    "print(output)\n",
    "print(\" \")\n",
    "print('output shape: ', output.shape)      # Batchsize x Hiddensize"
   ]
  },
  {
   "cell_type": "code",
   "execution_count": null,
   "id": "86def025",
   "metadata": {},
   "outputs": [],
   "source": []
  },
  {
   "cell_type": "markdown",
   "id": "c8037105",
   "metadata": {},
   "source": [
    "# 2. LSTM return_sequences = True "
   ]
  },
  {
   "cell_type": "code",
   "execution_count": 10,
   "id": "542f76d4",
   "metadata": {},
   "outputs": [],
   "source": [
    "# When return_sequences parameter is True, it will output all the hidden states of each time steps.\n",
    "\n",
    "# The ouput is a 3D array of real numbers.\n",
    "\n",
    "# The first dimension is indicating the number of samples in the batch given to the LSTM layer\n",
    "\n",
    "# The second dimension is the number of time steps in the input sequence. By indexing second dimension you can access all \n",
    "# the hidden states of the units at a given time step\n",
    "\n",
    "# The third dimension is the dimensionality of the output space defined by the units parameter in Keras LSTM implementation.\n",
    "\n",
    "# The content of the array is all the hidden states of each time steps of the LSTM layer"
   ]
  },
  {
   "cell_type": "markdown",
   "id": "c283a0b7",
   "metadata": {},
   "source": [
    "# Example Code"
   ]
  },
  {
   "cell_type": "code",
   "execution_count": 11,
   "id": "e69eef71",
   "metadata": {},
   "outputs": [],
   "source": [
    "# Since we have 3 time steps and unit (dimensionality of the output space) is set to 5, the output shape will be (None, 3, 5).\n",
    "\n",
    "# Because LSTM returns 1 hidden state for each time step."
   ]
  },
  {
   "cell_type": "code",
   "execution_count": 12,
   "id": "5531aea6",
   "metadata": {},
   "outputs": [
    {
     "name": "stdout",
     "output_type": "stream",
     "text": [
      "Model: \"model_1\"\n",
      "_________________________________________________________________\n",
      " Layer (type)                Output Shape              Param #   \n",
      "=================================================================\n",
      " input_2 (InputLayer)        [(None, 3, 4)]            0         \n",
      "                                                                 \n",
      " lstm_1 (LSTM)               (None, 3, 5)              200       \n",
      "                                                                 \n",
      "=================================================================\n",
      "Total params: 200\n",
      "Trainable params: 200\n",
      "Non-trainable params: 0\n",
      "_________________________________________________________________\n"
     ]
    }
   ],
   "source": [
    "input = Input(shape = (timesteps, features))\n",
    "all_hidden_states = LSTM(LSTMunits, return_sequences = True) (input)\n",
    "model2 = Model(inputs = input, outputs = all_hidden_states)\n",
    "model2.summary()"
   ]
  },
  {
   "cell_type": "code",
   "execution_count": 13,
   "id": "fcbb3677",
   "metadata": {},
   "outputs": [
    {
     "name": "stdout",
     "output_type": "stream",
     "text": [
      "1/1 [==============================] - 0s 403ms/step\n",
      "input shape:   (1, 3, 4)\n",
      "all_hidden_states shape:  (1, 3, 5)\n",
      "\n",
      "hidden states for the first sample: \n",
      " [[ 0.03259256 -0.01499919  0.16842824 -0.10798944 -0.00736986]\n",
      " [ 0.06433664 -0.14843813  0.0860649  -0.13666266 -0.06487611]\n",
      " [ 0.1681296   0.02044299  0.14556997 -0.3427916   0.08813762]]\n",
      "\n",
      "hidden states for the first sample at the second time step: \n",
      " [ 0.06433664 -0.14843813  0.0860649  -0.13666266 -0.06487611]\n"
     ]
    }
   ],
   "source": [
    "output = model2.predict(X)\n",
    "\n",
    "print('input shape:  ', X.shape)\n",
    "print('all_hidden_states shape: ', output.shape)\n",
    "print('\\nhidden states for the first sample: \\n', output[0]) # we only have one sample\n",
    "print('\\nhidden states for the first sample at the second time step: \\n', output[0][1])"
   ]
  },
  {
   "cell_type": "code",
   "execution_count": null,
   "id": "1946be53",
   "metadata": {},
   "outputs": [],
   "source": []
  },
  {
   "cell_type": "markdown",
   "id": "ebb2de9a",
   "metadata": {},
   "source": [
    "# 3. LSTM return_state=True"
   ]
  },
  {
   "cell_type": "code",
   "execution_count": 14,
   "id": "df28bd60",
   "metadata": {},
   "outputs": [],
   "source": [
    "# When return_state parameter is True, it will output the last hidden state twice and \n",
    "# the last cell state as the output from LSTM layer.\n",
    "\n",
    "# The ouput is a three 2D-arrays of real numbers.\n",
    "\n",
    "# The first dimension is indicating the number of samples (batch size) given to the LSTM layer\n",
    "# The second dimension is the dimensionality of the output space defined by unit parameter in the Keras LSTM layer.\n",
    "\n",
    "# It returns 3 arrays in the result:\n",
    "\n",
    "# 1. The LSTM hidden state of the last time step: (None, 5) It is 5 because dimensionality of the output space (unit parameter)\n",
    "#     is set to 5.\n",
    "\n",
    "# 2. The LSTM hidden state of the last time step (again):(None, )\n",
    "\n",
    "# 3. The LSTM cell state of the last time step: (None, 5) refers last cell state value whose dimensionality of the output space\n",
    "#     (unit parameter) is set to 5."
   ]
  },
  {
   "cell_type": "markdown",
   "id": "94f58a14",
   "metadata": {},
   "source": [
    "# Example Code"
   ]
  },
  {
   "cell_type": "code",
   "execution_count": 15,
   "id": "2b63be27",
   "metadata": {},
   "outputs": [],
   "source": [
    "# Since we set unit parameter (dimensionality of the output space) to 5, the output shape will be (None, 16) for all 3 tensors."
   ]
  },
  {
   "cell_type": "code",
   "execution_count": 16,
   "id": "9197837e",
   "metadata": {},
   "outputs": [
    {
     "name": "stdout",
     "output_type": "stream",
     "text": [
      "Model: \"model_2\"\n",
      "_________________________________________________________________\n",
      " Layer (type)                Output Shape              Param #   \n",
      "=================================================================\n",
      " input_3 (InputLayer)        [(None, 3, 4)]            0         \n",
      "                                                                 \n",
      " lstm_2 (LSTM)               [(None, 5),               200       \n",
      "                              (None, 5),                         \n",
      "                              (None, 5)]                         \n",
      "                                                                 \n",
      "=================================================================\n",
      "Total params: 200\n",
      "Trainable params: 200\n",
      "Non-trainable params: 0\n",
      "_________________________________________________________________\n"
     ]
    }
   ],
   "source": [
    "input =Input(shape=(timesteps, features))\n",
    "output, hidden, cell= LSTM(LSTMunits, return_state=True) (input)\n",
    "model3 = Model(inputs = input, outputs = [output, hidden, cell])\n",
    "model3.summary()"
   ]
  },
  {
   "cell_type": "code",
   "execution_count": 18,
   "id": "2975cda6",
   "metadata": {},
   "outputs": [
    {
     "name": "stdout",
     "output_type": "stream",
     "text": [
      "1/1 [==============================] - 0s 18ms/step\n",
      "input shape:   (1, 3, 4)\n",
      "result is three 2D-array:  (3, 1, 5)\n",
      "\n",
      "LSTM_output is in the first array:  (1, 5)\n",
      "\n",
      "LSTM_output :  [[-0.20883691  0.03200638  0.15348771 -0.15001658  0.2003983 ]]\n",
      "\n",
      "hidden_state which is exactly the same with LSTM_output is in the second array:  (1, 5)\n",
      "\n",
      "Hidden state:  [[-0.20883691  0.03200638  0.15348771 -0.15001658  0.2003983 ]]\n",
      "\n",
      "Cell state:  [[-0.62054557  0.08804745  0.1777096  -0.5262824   0.26693702]]\n"
     ]
    }
   ],
   "source": [
    "results = model3.predict(X)\n",
    "results = np.array(results)\n",
    "output, hidden_state, cell_state = results\n",
    "\n",
    "print('input shape:  ', X.shape)\n",
    "print('result is three 2D-array: ', results.shape)\n",
    "print('\\nLSTM_output is in the first array: ', results[0].shape)\n",
    "print('\\nLSTM_output : ', output)\n",
    "print('\\nhidden_state which is exactly the same with LSTM_output is in the second array: ', results[1].shape)\n",
    "print('\\nHidden state: ', hidden_state)\n",
    "print('\\nCell state: ', cell_state)"
   ]
  },
  {
   "cell_type": "code",
   "execution_count": null,
   "id": "aef5fdb7",
   "metadata": {},
   "outputs": [],
   "source": []
  },
  {
   "cell_type": "markdown",
   "id": "dd7495a0",
   "metadata": {},
   "source": [
    "# 4. LSTM return_state = True   and    return_sequences = True "
   ]
  },
  {
   "cell_type": "code",
   "execution_count": 19,
   "id": "26fd11df",
   "metadata": {},
   "outputs": [],
   "source": [
    "# LSTM layer returns 3 results:\n",
    "\n",
    "# (as return_sequences=True)\n",
    "# the hidden states for each input time step,\n",
    "\n",
    "# (as return_state=True)\n",
    "# the hidden state output for the last time step and\n",
    "# the cell state for the last time step."
   ]
  },
  {
   "cell_type": "code",
   "execution_count": 20,
   "id": "65ceb99e",
   "metadata": {},
   "outputs": [
    {
     "name": "stdout",
     "output_type": "stream",
     "text": [
      "Model: \"model_3\"\n",
      "_________________________________________________________________\n",
      " Layer (type)                Output Shape              Param #   \n",
      "=================================================================\n",
      " input_4 (InputLayer)        [(None, 3, 4)]            0         \n",
      "                                                                 \n",
      " lstm_3 (LSTM)               [(None, 3, 5),            200       \n",
      "                              (None, 5),                         \n",
      "                              (None, 5)]                         \n",
      "                                                                 \n",
      "=================================================================\n",
      "Total params: 200\n",
      "Trainable params: 200\n",
      "Non-trainable params: 0\n",
      "_________________________________________________________________\n"
     ]
    }
   ],
   "source": [
    "input = Input(shape = (timesteps, features))\n",
    "all_hidden_states, hidden_state, cell_state = LSTM(LSTMunits, return_sequences = True, return_state=True) (input)\n",
    "model4 = Model(inputs = input, outputs = [all_hidden_states, hidden_state, cell_state])\n",
    "model4.summary()"
   ]
  },
  {
   "cell_type": "code",
   "execution_count": 27,
   "id": "d793929f",
   "metadata": {},
   "outputs": [
    {
     "name": "stdout",
     "output_type": "stream",
     "text": [
      "1/1 [==============================] - 0s 17ms/step\n",
      "input shape:   (1, 3, 4)\n",
      "result is three 2D-array len (results):  3\n",
      "\n",
      "all_hidden_states is in the first array:  (1, 3, 5)\n",
      "\n",
      "\\hidden_states of each time steps : \n",
      "\n",
      " [[[-0.21957731  0.20638798 -0.03843133  0.06899611  0.08460483]\n",
      "  [-0.29204807  0.26578736  0.12555666 -0.07890295  0.18245336]\n",
      "  [-0.489339    0.3030822  -0.07513437 -0.452564    0.23820889]]]\n",
      "\n",
      "hidden_state of last time step:  (1, 5)\n",
      "\n",
      "hidden_state:  [[-0.489339    0.3030822  -0.07513437 -0.452564    0.23820889]]\n",
      "\n",
      "cell_state of last time step:  [[-1.0738897   0.5033318  -0.1135129  -0.7409135   0.35720763]]\n"
     ]
    }
   ],
   "source": [
    "results=model4.predict(X)\n",
    "all_hidden_states, hidden_state, cell_state = results\n",
    "\n",
    "print('input shape:  ', X.shape)\n",
    "print('result is three 2D-array len (results): ', len (results))\n",
    "print('\\nall_hidden_states is in the first array: ', results[0].shape)\n",
    "print('\\n\\hidden_states of each time steps : \\n\\n', results[0])\n",
    "print('\\nhidden_state of last time step: ', results[1].shape)\n",
    "print('\\nhidden_state: ', results[1])\n",
    "print('\\ncell_state of last time step: ', results[2])"
   ]
  },
  {
   "cell_type": "code",
   "execution_count": null,
   "id": "5fe418a1",
   "metadata": {},
   "outputs": [],
   "source": []
  }
 ],
 "metadata": {
  "kernelspec": {
   "display_name": "Python 3 (ipykernel)",
   "language": "python",
   "name": "python3"
  },
  "language_info": {
   "codemirror_mode": {
    "name": "ipython",
    "version": 3
   },
   "file_extension": ".py",
   "mimetype": "text/x-python",
   "name": "python",
   "nbconvert_exporter": "python",
   "pygments_lexer": "ipython3",
   "version": "3.9.7"
  }
 },
 "nbformat": 4,
 "nbformat_minor": 5
}
