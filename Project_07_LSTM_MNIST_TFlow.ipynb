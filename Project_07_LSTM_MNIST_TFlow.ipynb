{
 "cells": [
  {
   "cell_type": "markdown",
   "metadata": {},
   "source": [
    "# Import Libraries"
   ]
  },
  {
   "cell_type": "code",
   "execution_count": 1,
   "metadata": {
    "executionInfo": {
     "elapsed": 5,
     "status": "ok",
     "timestamp": 1670987389229,
     "user": {
      "displayName": "zeeshan ahmad",
      "userId": "09790783261567949831"
     },
     "user_tz": 300
    },
    "id": "gDSnp031m54o"
   },
   "outputs": [],
   "source": [
    "import tensorflow as tf\n",
    "from tensorflow.keras.layers import Input, SimpleRNN, GRU, LSTM, Dense, Flatten\n",
    "from tensorflow.keras.models import Model\n",
    "from tensorflow.keras.optimizers import SGD, Adam\n",
    "import numpy as np\n",
    "import pandas as pd\n",
    "import matplotlib.pyplot as plt\n",
    "from matplotlib import style\n",
    "style.use('dark_background')\n",
    "from sklearn.model_selection import train_test_split"
   ]
  },
  {
   "cell_type": "markdown",
   "metadata": {},
   "source": [
    "# Load in the data"
   ]
  },
  {
   "cell_type": "code",
   "execution_count": 2,
   "metadata": {
    "colab": {
     "base_uri": "https://localhost:8080/"
    },
    "executionInfo": {
     "elapsed": 1605,
     "status": "ok",
     "timestamp": 1670987397249,
     "user": {
      "displayName": "zeeshan ahmad",
      "userId": "09790783261567949831"
     },
     "user_tz": 300
    },
    "id": "F6arCxP1m-n4",
    "outputId": "8f617d48-99eb-4f96-b3b4-0010fcb10c06"
   },
   "outputs": [
    {
     "name": "stdout",
     "output_type": "stream",
     "text": [
      "x_train.shape: (60000, 28, 28)\n"
     ]
    }
   ],
   "source": [
    "mnist = tf.keras.datasets.mnist\n",
    "(x_train, y_train), _ = mnist.load_data()\n",
    "print(\"x_train.shape:\", x_train.shape)"
   ]
  },
  {
   "cell_type": "code",
   "execution_count": 3,
   "metadata": {},
   "outputs": [
    {
     "data": {
      "text/plain": [
       "dtype('uint8')"
      ]
     },
     "execution_count": 3,
     "metadata": {},
     "output_type": "execute_result"
    }
   ],
   "source": [
    "x_train.dtype"
   ]
  },
  {
   "cell_type": "markdown",
   "metadata": {},
   "source": [
    "# Extract first 10000 samples"
   ]
  },
  {
   "cell_type": "code",
   "execution_count": 4,
   "metadata": {},
   "outputs": [],
   "source": [
    "X  = x_train[0:10000, :]"
   ]
  },
  {
   "cell_type": "code",
   "execution_count": 5,
   "metadata": {},
   "outputs": [
    {
     "data": {
      "text/plain": [
       "(10000, 28, 28)"
      ]
     },
     "execution_count": 5,
     "metadata": {},
     "output_type": "execute_result"
    }
   ],
   "source": [
    "X.shape # N x T x D"
   ]
  },
  {
   "cell_type": "code",
   "execution_count": 6,
   "metadata": {},
   "outputs": [],
   "source": [
    "y = y_train[0:10000]"
   ]
  },
  {
   "cell_type": "code",
   "execution_count": 7,
   "metadata": {},
   "outputs": [
    {
     "data": {
      "text/plain": [
       "(10000,)"
      ]
     },
     "execution_count": 7,
     "metadata": {},
     "output_type": "execute_result"
    }
   ],
   "source": [
    "y.shape"
   ]
  },
  {
   "cell_type": "markdown",
   "metadata": {},
   "source": [
    "# Perform Train test split"
   ]
  },
  {
   "cell_type": "code",
   "execution_count": 8,
   "metadata": {},
   "outputs": [],
   "source": [
    "train_data, test_data, train_labels, test_labels = train_test_split(X, y, test_size = 0.1)"
   ]
  },
  {
   "cell_type": "code",
   "execution_count": 9,
   "metadata": {},
   "outputs": [
    {
     "data": {
      "text/plain": [
       "(28, 28)"
      ]
     },
     "execution_count": 9,
     "metadata": {},
     "output_type": "execute_result"
    }
   ],
   "source": [
    "train_data[0].shape  # shape of the first sample of train_data"
   ]
  },
  {
   "cell_type": "markdown",
   "metadata": {},
   "source": [
    "# Create the Model"
   ]
  },
  {
   "cell_type": "code",
   "execution_count": 10,
   "metadata": {
    "executionInfo": {
     "elapsed": 952,
     "status": "ok",
     "timestamp": 1670987402345,
     "user": {
      "displayName": "zeeshan ahmad",
      "userId": "09790783261567949831"
     },
     "user_tz": 300
    },
    "id": "feHv7b-VnDhJ"
   },
   "outputs": [],
   "source": [
    "i = Input(train_data[0].shape) # T x D. Here  T x D = 28 x 28\n",
    "x = LSTM(128)(i)\n",
    "x = Dense(10, activation='softmax')(x)\n",
    "model = Model(i, x)"
   ]
  },
  {
   "cell_type": "markdown",
   "metadata": {},
   "source": [
    "# Compile the Model"
   ]
  },
  {
   "cell_type": "code",
   "execution_count": 11,
   "metadata": {
    "colab": {
     "base_uri": "https://localhost:8080/"
    },
    "executionInfo": {
     "elapsed": 767504,
     "status": "ok",
     "timestamp": 1670988179422,
     "user": {
      "displayName": "zeeshan ahmad",
      "userId": "09790783261567949831"
     },
     "user_tz": 300
    },
    "id": "KkhuW-IcnGSP",
    "outputId": "e68f0c7b-b9e7-49d8-c023-5ee9ada14308"
   },
   "outputs": [],
   "source": [
    "model.compile(optimizer='adam', loss='sparse_categorical_crossentropy', metrics=['accuracy'])"
   ]
  },
  {
   "cell_type": "markdown",
   "metadata": {},
   "source": [
    "# Train the Model"
   ]
  },
  {
   "cell_type": "code",
   "execution_count": 12,
   "metadata": {},
   "outputs": [
    {
     "name": "stdout",
     "output_type": "stream",
     "text": [
      "Epoch 1/50\n",
      "282/282 [==============================] - 6s 15ms/step - loss: 1.0131 - accuracy: 0.6609 - val_loss: 0.5790 - val_accuracy: 0.8100\n",
      "Epoch 2/50\n",
      "282/282 [==============================] - 4s 15ms/step - loss: 0.4946 - accuracy: 0.8361 - val_loss: 0.4701 - val_accuracy: 0.8480\n",
      "Epoch 3/50\n",
      "282/282 [==============================] - 4s 14ms/step - loss: 0.3988 - accuracy: 0.8677 - val_loss: 0.4493 - val_accuracy: 0.8510\n",
      "Epoch 4/50\n",
      "282/282 [==============================] - 4s 14ms/step - loss: 0.3448 - accuracy: 0.8801 - val_loss: 0.4044 - val_accuracy: 0.8710\n",
      "Epoch 5/50\n",
      "282/282 [==============================] - 4s 14ms/step - loss: 0.3108 - accuracy: 0.8922 - val_loss: 0.4148 - val_accuracy: 0.8600\n",
      "Epoch 6/50\n",
      "282/282 [==============================] - 4s 13ms/step - loss: 0.2869 - accuracy: 0.9044 - val_loss: 0.3816 - val_accuracy: 0.8700\n",
      "Epoch 7/50\n",
      "282/282 [==============================] - 4s 13ms/step - loss: 0.2619 - accuracy: 0.9117 - val_loss: 0.3735 - val_accuracy: 0.8770\n",
      "Epoch 8/50\n",
      "282/282 [==============================] - 4s 13ms/step - loss: 0.2278 - accuracy: 0.9219 - val_loss: 0.3418 - val_accuracy: 0.8890\n",
      "Epoch 9/50\n",
      "282/282 [==============================] - 4s 14ms/step - loss: 0.2187 - accuracy: 0.9244 - val_loss: 0.3544 - val_accuracy: 0.8830\n",
      "Epoch 10/50\n",
      "282/282 [==============================] - 4s 14ms/step - loss: 0.2084 - accuracy: 0.9282 - val_loss: 0.3385 - val_accuracy: 0.8890\n",
      "Epoch 11/50\n",
      "282/282 [==============================] - 4s 14ms/step - loss: 0.1964 - accuracy: 0.9320 - val_loss: 0.3375 - val_accuracy: 0.8940\n",
      "Epoch 12/50\n",
      "282/282 [==============================] - 4s 14ms/step - loss: 0.1710 - accuracy: 0.9406 - val_loss: 0.3684 - val_accuracy: 0.8840\n",
      "Epoch 13/50\n",
      "282/282 [==============================] - 4s 15ms/step - loss: 0.1723 - accuracy: 0.9399 - val_loss: 0.3420 - val_accuracy: 0.8920\n",
      "Epoch 14/50\n",
      "282/282 [==============================] - 4s 16ms/step - loss: 0.1603 - accuracy: 0.9448 - val_loss: 0.3560 - val_accuracy: 0.8860\n",
      "Epoch 15/50\n",
      "282/282 [==============================] - 4s 16ms/step - loss: 0.1325 - accuracy: 0.9536 - val_loss: 0.3187 - val_accuracy: 0.9040\n",
      "Epoch 16/50\n",
      "282/282 [==============================] - 4s 14ms/step - loss: 0.1320 - accuracy: 0.9561 - val_loss: 0.3618 - val_accuracy: 0.8990\n",
      "Epoch 17/50\n",
      "282/282 [==============================] - 4s 14ms/step - loss: 0.1305 - accuracy: 0.9567 - val_loss: 0.3759 - val_accuracy: 0.8890\n",
      "Epoch 18/50\n",
      "282/282 [==============================] - 4s 14ms/step - loss: 0.1277 - accuracy: 0.9567 - val_loss: 0.3729 - val_accuracy: 0.8800\n",
      "Epoch 19/50\n",
      "282/282 [==============================] - 4s 16ms/step - loss: 0.1193 - accuracy: 0.9584 - val_loss: 0.3805 - val_accuracy: 0.8940\n",
      "Epoch 20/50\n",
      "282/282 [==============================] - 4s 15ms/step - loss: 0.1204 - accuracy: 0.9586 - val_loss: 0.3354 - val_accuracy: 0.8970\n",
      "Epoch 21/50\n",
      "282/282 [==============================] - 4s 15ms/step - loss: 0.1245 - accuracy: 0.9559 - val_loss: 0.3716 - val_accuracy: 0.9030\n",
      "Epoch 22/50\n",
      "282/282 [==============================] - 4s 14ms/step - loss: 0.1078 - accuracy: 0.9633 - val_loss: 0.3566 - val_accuracy: 0.8960\n",
      "Epoch 23/50\n",
      "282/282 [==============================] - 4s 14ms/step - loss: 0.1027 - accuracy: 0.9621 - val_loss: 0.3819 - val_accuracy: 0.8860\n",
      "Epoch 24/50\n",
      "282/282 [==============================] - 4s 15ms/step - loss: 0.0978 - accuracy: 0.9638 - val_loss: 0.3468 - val_accuracy: 0.8960\n",
      "Epoch 25/50\n",
      "282/282 [==============================] - 4s 15ms/step - loss: 0.0918 - accuracy: 0.9670 - val_loss: 0.3414 - val_accuracy: 0.9040\n",
      "Epoch 26/50\n",
      "282/282 [==============================] - 4s 15ms/step - loss: 0.0817 - accuracy: 0.9719 - val_loss: 0.3861 - val_accuracy: 0.8920\n",
      "Epoch 27/50\n",
      "282/282 [==============================] - 4s 15ms/step - loss: 0.0821 - accuracy: 0.9722 - val_loss: 0.3610 - val_accuracy: 0.9060\n",
      "Epoch 28/50\n",
      "282/282 [==============================] - 4s 15ms/step - loss: 0.0767 - accuracy: 0.9726 - val_loss: 0.3856 - val_accuracy: 0.9100\n",
      "Epoch 29/50\n",
      "282/282 [==============================] - 4s 15ms/step - loss: 0.0752 - accuracy: 0.9747 - val_loss: 0.3738 - val_accuracy: 0.9040\n",
      "Epoch 30/50\n",
      "282/282 [==============================] - 4s 15ms/step - loss: 0.0767 - accuracy: 0.9738 - val_loss: 0.3884 - val_accuracy: 0.8940\n",
      "Epoch 31/50\n",
      "282/282 [==============================] - 4s 15ms/step - loss: 0.0723 - accuracy: 0.9741 - val_loss: 0.3663 - val_accuracy: 0.9100\n",
      "Epoch 32/50\n",
      "282/282 [==============================] - 4s 15ms/step - loss: 0.0724 - accuracy: 0.9739 - val_loss: 0.4228 - val_accuracy: 0.9000\n",
      "Epoch 33/50\n",
      "282/282 [==============================] - 4s 14ms/step - loss: 0.0771 - accuracy: 0.9721 - val_loss: 0.4257 - val_accuracy: 0.8890\n",
      "Epoch 34/50\n",
      "282/282 [==============================] - 4s 15ms/step - loss: 0.0582 - accuracy: 0.9801 - val_loss: 0.3609 - val_accuracy: 0.9040\n",
      "Epoch 35/50\n",
      "282/282 [==============================] - 4s 14ms/step - loss: 0.0615 - accuracy: 0.9790 - val_loss: 0.3532 - val_accuracy: 0.9040\n",
      "Epoch 36/50\n",
      "282/282 [==============================] - 4s 14ms/step - loss: 0.0727 - accuracy: 0.9742 - val_loss: 0.3623 - val_accuracy: 0.9000\n",
      "Epoch 37/50\n",
      "282/282 [==============================] - 4s 14ms/step - loss: 0.0698 - accuracy: 0.9764 - val_loss: 0.3810 - val_accuracy: 0.9020\n",
      "Epoch 38/50\n",
      "282/282 [==============================] - 4s 14ms/step - loss: 0.0505 - accuracy: 0.9839 - val_loss: 0.3858 - val_accuracy: 0.9020\n",
      "Epoch 39/50\n",
      "282/282 [==============================] - 4s 15ms/step - loss: 0.0496 - accuracy: 0.9837 - val_loss: 0.4132 - val_accuracy: 0.9060\n",
      "Epoch 40/50\n",
      "282/282 [==============================] - 4s 15ms/step - loss: 0.0433 - accuracy: 0.9856 - val_loss: 0.4125 - val_accuracy: 0.8980\n",
      "Epoch 41/50\n",
      "282/282 [==============================] - 4s 14ms/step - loss: 0.0332 - accuracy: 0.9897 - val_loss: 0.4210 - val_accuracy: 0.9010\n",
      "Epoch 42/50\n",
      "282/282 [==============================] - 4s 14ms/step - loss: 0.0402 - accuracy: 0.9866 - val_loss: 0.4209 - val_accuracy: 0.8910\n",
      "Epoch 43/50\n",
      "282/282 [==============================] - 4s 14ms/step - loss: 0.0585 - accuracy: 0.9792 - val_loss: 0.3988 - val_accuracy: 0.8990\n",
      "Epoch 44/50\n",
      "282/282 [==============================] - 4s 14ms/step - loss: 0.0591 - accuracy: 0.9801 - val_loss: 0.4049 - val_accuracy: 0.8960\n",
      "Epoch 45/50\n",
      "282/282 [==============================] - 4s 14ms/step - loss: 0.0656 - accuracy: 0.9777 - val_loss: 0.4175 - val_accuracy: 0.9050\n",
      "Epoch 46/50\n",
      "282/282 [==============================] - 4s 14ms/step - loss: 0.0500 - accuracy: 0.9839 - val_loss: 0.4316 - val_accuracy: 0.8950\n",
      "Epoch 47/50\n",
      "282/282 [==============================] - 4s 14ms/step - loss: 0.0365 - accuracy: 0.9887 - val_loss: 0.4042 - val_accuracy: 0.9150\n",
      "Epoch 48/50\n",
      "282/282 [==============================] - 4s 15ms/step - loss: 0.0406 - accuracy: 0.9866 - val_loss: 0.4439 - val_accuracy: 0.9080\n",
      "Epoch 49/50\n",
      "282/282 [==============================] - 4s 15ms/step - loss: 0.0482 - accuracy: 0.9839 - val_loss: 0.4511 - val_accuracy: 0.9040\n",
      "Epoch 50/50\n",
      "282/282 [==============================] - 4s 14ms/step - loss: 0.0438 - accuracy: 0.9841 - val_loss: 0.4345 - val_accuracy: 0.9090\n"
     ]
    }
   ],
   "source": [
    "hist = model.fit(train_data, train_labels, validation_data=(test_data, test_labels), epochs = 50)"
   ]
  },
  {
   "cell_type": "markdown",
   "metadata": {},
   "source": [
    "# Visualize the Model Performance"
   ]
  },
  {
   "cell_type": "code",
   "execution_count": 13,
   "metadata": {
    "colab": {
     "base_uri": "https://localhost:8080/",
     "height": 282
    },
    "executionInfo": {
     "elapsed": 221,
     "status": "ok",
     "timestamp": 1670988179639,
     "user": {
      "displayName": "zeeshan ahmad",
      "userId": "09790783261567949831"
     },
     "user_tz": 300
    },
    "id": "suVKp9IdnJTv",
    "outputId": "cddbf36e-06b3-4511-fa1d-56c7bdf9ddd1"
   },
   "outputs": [],
   "source": [
    "trainAcc = [100 * x for x in hist.history['accuracy']]\n",
    "testAcc = [100 * x for x in hist.history['val_accuracy']]"
   ]
  },
  {
   "cell_type": "code",
   "execution_count": 14,
   "metadata": {
    "colab": {
     "base_uri": "https://localhost:8080/",
     "height": 282
    },
    "executionInfo": {
     "elapsed": 163,
     "status": "ok",
     "timestamp": 1670988179942,
     "user": {
      "displayName": "zeeshan ahmad",
      "userId": "09790783261567949831"
     },
     "user_tz": 300
    },
    "id": "mVscPk8InMdH",
    "outputId": "f7a52db5-a6ba-4782-dbc8-b88d9a5ad1dc"
   },
   "outputs": [
    {
     "data": {
      "image/png": "[encoded data removed]",
      "text/plain": [
       "<Figure size 1296x432 with 2 Axes>"
      ]
     },
     "metadata": {},
     "output_type": "display_data"
    }
   ],
   "source": [
    "fig,ax = plt.subplots(1,2,figsize=(18,6))\n",
    "\n",
    "ax[0].plot(hist.history['loss'], 'g', lw = 3, label = 'Train')\n",
    "ax[0].set_xlabel('Epochs', fontsize = 15)\n",
    "ax[0].set_ylabel('Loss', fontsize = 15)\n",
    "ax[0].legend(fontsize = 15)\n",
    "ax[0].set_title('Training Loss', fontsize = 15)\n",
    "\n",
    "\n",
    "ax[1].plot(trainAcc, label ='Train', lw = 3)\n",
    "ax[1].plot(testAcc, label ='Test', lw = 3)\n",
    "ax[1].set_xlabel('Epochs', fontsize = 15)\n",
    "ax[1].set_ylabel('Accuracy (%)', fontsize = 15)\n",
    "ax[1].set_ylim([10,110])\n",
    "ax[1].set_title(f'Train Accuracy: {trainAcc[-1]:.2f}% \\n Test Accuracy: {testAcc[-1]:.2f}%', fontsize = 15)\n",
    "ax[1].legend(fontsize = 15)\n",
    "\n",
    "plt.show()"
   ]
  },
  {
   "cell_type": "code",
   "execution_count": null,
   "metadata": {},
   "outputs": [],
   "source": []
  }
 ],
 "metadata": {
  "colab": {
   "authorship_tag": "ABX9TyPUm/mtkoj3nIq/suBBke8G",
   "provenance": []
  },
  "kernelspec": {
   "display_name": "Python 3 (ipykernel)",
   "language": "python",
   "name": "python3"
  },
  "language_info": {
   "codemirror_mode": {
    "name": "ipython",
    "version": 3
   },
   "file_extension": ".py",
   "mimetype": "text/x-python",
   "name": "python",
   "nbconvert_exporter": "python",
   "pygments_lexer": "ipython3",
   "version": "3.9.7"
  }
 },
 "nbformat": 4,
 "nbformat_minor": 1
}
