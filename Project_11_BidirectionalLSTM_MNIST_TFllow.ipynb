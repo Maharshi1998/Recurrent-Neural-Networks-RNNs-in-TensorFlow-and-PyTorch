{
 "cells": [
  {
   "cell_type": "markdown",
   "metadata": {},
   "source": [
    "# Import Libraries"
   ]
  },
  {
   "cell_type": "code",
   "execution_count": 1,
   "metadata": {
    "executionInfo": {
     "elapsed": 5,
     "status": "ok",
     "timestamp": 1670987389229,
     "user": {
      "displayName": "zeeshan ahmad",
      "userId": "09790783261567949831"
     },
     "user_tz": 300
    },
    "id": "gDSnp031m54o"
   },
   "outputs": [],
   "source": [
    "import tensorflow as tf\n",
    "from tensorflow.keras.layers import Input, LSTM, Dense, Flatten, Bidirectional, GlobalMaxPooling1D, Lambda, Concatenate\n",
    "from tensorflow.keras.models import Model\n",
    "from tensorflow.keras.optimizers import SGD, Adam\n",
    "import numpy as np\n",
    "import pandas as pd\n",
    "import matplotlib.pyplot as plt\n",
    "from matplotlib import style\n",
    "style.use('dark_background')\n",
    "from sklearn.model_selection import train_test_split"
   ]
  },
  {
   "cell_type": "markdown",
   "metadata": {},
   "source": [
    "# Load in the data"
   ]
  },
  {
   "cell_type": "code",
   "execution_count": 2,
   "metadata": {
    "colab": {
     "base_uri": "https://localhost:8080/"
    },
    "executionInfo": {
     "elapsed": 1605,
     "status": "ok",
     "timestamp": 1670987397249,
     "user": {
      "displayName": "zeeshan ahmad",
      "userId": "09790783261567949831"
     },
     "user_tz": 300
    },
    "id": "F6arCxP1m-n4",
    "outputId": "8f617d48-99eb-4f96-b3b4-0010fcb10c06"
   },
   "outputs": [
    {
     "name": "stdout",
     "output_type": "stream",
     "text": [
      "x_train.shape: (60000, 28, 28)\n"
     ]
    }
   ],
   "source": [
    "mnist = tf.keras.datasets.mnist\n",
    "(x_train, y_train), _ = mnist.load_data()\n",
    "print(\"x_train.shape:\", x_train.shape)"
   ]
  },
  {
   "cell_type": "code",
   "execution_count": 3,
   "metadata": {},
   "outputs": [
    {
     "data": {
      "text/plain": [
       "dtype('uint8')"
      ]
     },
     "execution_count": 3,
     "metadata": {},
     "output_type": "execute_result"
    }
   ],
   "source": [
    "x_train.dtype"
   ]
  },
  {
   "cell_type": "markdown",
   "metadata": {},
   "source": [
    "# Extract first 10000 samples"
   ]
  },
  {
   "cell_type": "code",
   "execution_count": 4,
   "metadata": {},
   "outputs": [],
   "source": [
    "X  = x_train[0:10000, :]"
   ]
  },
  {
   "cell_type": "code",
   "execution_count": 5,
   "metadata": {},
   "outputs": [
    {
     "data": {
      "text/plain": [
       "(10000, 28, 28)"
      ]
     },
     "execution_count": 5,
     "metadata": {},
     "output_type": "execute_result"
    }
   ],
   "source": [
    "X.shape # N x T x D"
   ]
  },
  {
   "cell_type": "code",
   "execution_count": 6,
   "metadata": {},
   "outputs": [],
   "source": [
    "y = y_train[0:10000]"
   ]
  },
  {
   "cell_type": "code",
   "execution_count": 7,
   "metadata": {},
   "outputs": [
    {
     "data": {
      "text/plain": [
       "(10000,)"
      ]
     },
     "execution_count": 7,
     "metadata": {},
     "output_type": "execute_result"
    }
   ],
   "source": [
    "y.shape"
   ]
  },
  {
   "cell_type": "markdown",
   "metadata": {},
   "source": [
    "# Perform Train test split"
   ]
  },
  {
   "cell_type": "code",
   "execution_count": 8,
   "metadata": {},
   "outputs": [],
   "source": [
    "train_data, test_data, train_labels, test_labels = train_test_split(X, y, test_size = 0.1)"
   ]
  },
  {
   "cell_type": "code",
   "execution_count": 9,
   "metadata": {},
   "outputs": [
    {
     "data": {
      "text/plain": [
       "(28, 28)"
      ]
     },
     "execution_count": 9,
     "metadata": {},
     "output_type": "execute_result"
    }
   ],
   "source": [
    "train_data[0].shape  # shape of the first sample of train_data"
   ]
  },
  {
   "cell_type": "markdown",
   "metadata": {},
   "source": [
    "# Create the Model"
   ]
  },
  {
   "cell_type": "code",
   "execution_count": 10,
   "metadata": {},
   "outputs": [],
   "source": [
    "i = Input(train_data[0].shape) # T x D. Here  T x D = 28 x 28\n",
    "rnn = Bidirectional(LSTM(128))\n",
    "X = rnn(i)\n",
    "X = Dense(10, activation='softmax')(X)\n",
    "model = Model(i, X)"
   ]
  },
  {
   "cell_type": "code",
   "execution_count": 11,
   "metadata": {
    "executionInfo": {
     "elapsed": 952,
     "status": "ok",
     "timestamp": 1670987402345,
     "user": {
      "displayName": "zeeshan ahmad",
      "userId": "09790783261567949831"
     },
     "user_tz": 300
    },
    "id": "feHv7b-VnDhJ"
   },
   "outputs": [],
   "source": [
    "# i = Input(train_data[0].shape) # T x D. Here  T x D = 28 x 28\n",
    "# x = LSTM(128)(i)\n",
    "# x = Dense(10, activation='softmax')(x)\n",
    "# model = Model(i, x)"
   ]
  },
  {
   "cell_type": "markdown",
   "metadata": {},
   "source": [
    "# Compile the Model"
   ]
  },
  {
   "cell_type": "code",
   "execution_count": 12,
   "metadata": {
    "colab": {
     "base_uri": "https://localhost:8080/"
    },
    "executionInfo": {
     "elapsed": 767504,
     "status": "ok",
     "timestamp": 1670988179422,
     "user": {
      "displayName": "zeeshan ahmad",
      "userId": "09790783261567949831"
     },
     "user_tz": 300
    },
    "id": "KkhuW-IcnGSP",
    "outputId": "e68f0c7b-b9e7-49d8-c023-5ee9ada14308"
   },
   "outputs": [],
   "source": [
    "model.compile(optimizer='adam', loss='sparse_categorical_crossentropy', metrics=['accuracy'])"
   ]
  },
  {
   "cell_type": "markdown",
   "metadata": {},
   "source": [
    "# Train the Model"
   ]
  },
  {
   "cell_type": "code",
   "execution_count": 13,
   "metadata": {},
   "outputs": [
    {
     "name": "stdout",
     "output_type": "stream",
     "text": [
      "Epoch 1/50\n",
      "282/282 [==============================] - 8s 20ms/step - loss: 0.6736 - accuracy: 0.7970 - val_loss: 0.3845 - val_accuracy: 0.8700\n",
      "Epoch 2/50\n",
      "282/282 [==============================] - 5s 18ms/step - loss: 0.2801 - accuracy: 0.9097 - val_loss: 0.3265 - val_accuracy: 0.8930\n",
      "Epoch 3/50\n",
      "282/282 [==============================] - 5s 17ms/step - loss: 0.2177 - accuracy: 0.9309 - val_loss: 0.2788 - val_accuracy: 0.9100\n",
      "Epoch 4/50\n",
      "282/282 [==============================] - 5s 17ms/step - loss: 0.1768 - accuracy: 0.9422 - val_loss: 0.2593 - val_accuracy: 0.9110\n",
      "Epoch 5/50\n",
      "282/282 [==============================] - 5s 17ms/step - loss: 0.1472 - accuracy: 0.9529 - val_loss: 0.2752 - val_accuracy: 0.9090\n",
      "Epoch 6/50\n",
      "282/282 [==============================] - 5s 17ms/step - loss: 0.1310 - accuracy: 0.9568 - val_loss: 0.2603 - val_accuracy: 0.9260\n",
      "Epoch 7/50\n",
      "282/282 [==============================] - 5s 17ms/step - loss: 0.1253 - accuracy: 0.9573 - val_loss: 0.2512 - val_accuracy: 0.9230\n",
      "Epoch 8/50\n",
      "282/282 [==============================] - 5s 17ms/step - loss: 0.1049 - accuracy: 0.9663 - val_loss: 0.2332 - val_accuracy: 0.9360\n",
      "Epoch 9/50\n",
      "282/282 [==============================] - 5s 17ms/step - loss: 0.0979 - accuracy: 0.9671 - val_loss: 0.2443 - val_accuracy: 0.9190\n",
      "Epoch 10/50\n",
      "282/282 [==============================] - 5s 17ms/step - loss: 0.0965 - accuracy: 0.9669 - val_loss: 0.2396 - val_accuracy: 0.9320\n",
      "Epoch 11/50\n",
      "282/282 [==============================] - 5s 17ms/step - loss: 0.0851 - accuracy: 0.9706 - val_loss: 0.2076 - val_accuracy: 0.9370\n",
      "Epoch 12/50\n",
      "282/282 [==============================] - 5s 18ms/step - loss: 0.0615 - accuracy: 0.9817 - val_loss: 0.2041 - val_accuracy: 0.9390\n",
      "Epoch 13/50\n",
      "282/282 [==============================] - 5s 17ms/step - loss: 0.0507 - accuracy: 0.9837 - val_loss: 0.2347 - val_accuracy: 0.9340\n",
      "Epoch 14/50\n",
      "282/282 [==============================] - 5s 18ms/step - loss: 0.0517 - accuracy: 0.9840 - val_loss: 0.2091 - val_accuracy: 0.9450\n",
      "Epoch 15/50\n",
      "282/282 [==============================] - 5s 18ms/step - loss: 0.0513 - accuracy: 0.9831 - val_loss: 0.2271 - val_accuracy: 0.9300\n",
      "Epoch 16/50\n",
      "282/282 [==============================] - 5s 18ms/step - loss: 0.0628 - accuracy: 0.9794 - val_loss: 0.1967 - val_accuracy: 0.9380\n",
      "Epoch 17/50\n",
      "282/282 [==============================] - 5s 19ms/step - loss: 0.0632 - accuracy: 0.9766 - val_loss: 0.2115 - val_accuracy: 0.9380\n",
      "Epoch 18/50\n",
      "282/282 [==============================] - 6s 21ms/step - loss: 0.0461 - accuracy: 0.9853 - val_loss: 0.2051 - val_accuracy: 0.9450\n",
      "Epoch 19/50\n",
      "282/282 [==============================] - 5s 19ms/step - loss: 0.0372 - accuracy: 0.9882 - val_loss: 0.1943 - val_accuracy: 0.9390\n",
      "Epoch 20/50\n",
      "282/282 [==============================] - 5s 18ms/step - loss: 0.0396 - accuracy: 0.9864 - val_loss: 0.2137 - val_accuracy: 0.9280\n",
      "Epoch 21/50\n",
      "282/282 [==============================] - 5s 18ms/step - loss: 0.0393 - accuracy: 0.9883 - val_loss: 0.1873 - val_accuracy: 0.9480\n",
      "Epoch 22/50\n",
      "282/282 [==============================] - 5s 18ms/step - loss: 0.0498 - accuracy: 0.9841 - val_loss: 0.1956 - val_accuracy: 0.9430\n",
      "Epoch 23/50\n",
      "282/282 [==============================] - 5s 19ms/step - loss: 0.0391 - accuracy: 0.9872 - val_loss: 0.2207 - val_accuracy: 0.9400\n",
      "Epoch 24/50\n",
      "282/282 [==============================] - 6s 22ms/step - loss: 0.0364 - accuracy: 0.9873 - val_loss: 0.2280 - val_accuracy: 0.9300\n",
      "Epoch 25/50\n",
      "282/282 [==============================] - 6s 20ms/step - loss: 0.0363 - accuracy: 0.9893 - val_loss: 0.1869 - val_accuracy: 0.9440\n",
      "Epoch 26/50\n",
      "282/282 [==============================] - 5s 19ms/step - loss: 0.0235 - accuracy: 0.9938 - val_loss: 0.2000 - val_accuracy: 0.9440\n",
      "Epoch 27/50\n",
      "282/282 [==============================] - 5s 19ms/step - loss: 0.0232 - accuracy: 0.9930 - val_loss: 0.1904 - val_accuracy: 0.9410\n",
      "Epoch 28/50\n",
      "282/282 [==============================] - 5s 19ms/step - loss: 0.0236 - accuracy: 0.9924 - val_loss: 0.2255 - val_accuracy: 0.9330\n",
      "Epoch 29/50\n",
      "282/282 [==============================] - 5s 19ms/step - loss: 0.0370 - accuracy: 0.9860 - val_loss: 0.2174 - val_accuracy: 0.9400\n",
      "Epoch 30/50\n",
      "282/282 [==============================] - 6s 20ms/step - loss: 0.0423 - accuracy: 0.9849 - val_loss: 0.2872 - val_accuracy: 0.9230\n",
      "Epoch 31/50\n",
      "282/282 [==============================] - 6s 20ms/step - loss: 0.0451 - accuracy: 0.9831 - val_loss: 0.2003 - val_accuracy: 0.9400\n",
      "Epoch 32/50\n",
      "282/282 [==============================] - 6s 20ms/step - loss: 0.0349 - accuracy: 0.9881 - val_loss: 0.2100 - val_accuracy: 0.9390\n",
      "Epoch 33/50\n",
      "282/282 [==============================] - 6s 20ms/step - loss: 0.0236 - accuracy: 0.9923 - val_loss: 0.2150 - val_accuracy: 0.9390\n",
      "Epoch 34/50\n",
      "282/282 [==============================] - 6s 20ms/step - loss: 0.0189 - accuracy: 0.9951 - val_loss: 0.2313 - val_accuracy: 0.9390\n",
      "Epoch 35/50\n",
      "282/282 [==============================] - 6s 20ms/step - loss: 0.0117 - accuracy: 0.9970 - val_loss: 0.1980 - val_accuracy: 0.9480\n",
      "Epoch 36/50\n",
      "282/282 [==============================] - 6s 21ms/step - loss: 0.0094 - accuracy: 0.9974 - val_loss: 0.2159 - val_accuracy: 0.9430\n",
      "Epoch 37/50\n",
      "282/282 [==============================] - 6s 22ms/step - loss: 0.0183 - accuracy: 0.9941 - val_loss: 0.2372 - val_accuracy: 0.9390\n",
      "Epoch 38/50\n",
      "282/282 [==============================] - 7s 24ms/step - loss: 0.0302 - accuracy: 0.9899 - val_loss: 0.2219 - val_accuracy: 0.9280\n",
      "Epoch 39/50\n",
      "282/282 [==============================] - 6s 21ms/step - loss: 0.0503 - accuracy: 0.9830 - val_loss: 0.2532 - val_accuracy: 0.9230\n",
      "Epoch 40/50\n",
      "282/282 [==============================] - 6s 20ms/step - loss: 0.0335 - accuracy: 0.9892 - val_loss: 0.2291 - val_accuracy: 0.9370\n",
      "Epoch 41/50\n",
      "282/282 [==============================] - 6s 21ms/step - loss: 0.0268 - accuracy: 0.9911 - val_loss: 0.2317 - val_accuracy: 0.9340\n",
      "Epoch 42/50\n",
      "282/282 [==============================] - 6s 21ms/step - loss: 0.0194 - accuracy: 0.9942 - val_loss: 0.2238 - val_accuracy: 0.9410\n",
      "Epoch 43/50\n",
      "282/282 [==============================] - 6s 20ms/step - loss: 0.0144 - accuracy: 0.9954 - val_loss: 0.1929 - val_accuracy: 0.9510\n",
      "Epoch 44/50\n",
      "282/282 [==============================] - 6s 21ms/step - loss: 0.0107 - accuracy: 0.9977 - val_loss: 0.2264 - val_accuracy: 0.9390\n",
      "Epoch 45/50\n",
      "282/282 [==============================] - 6s 20ms/step - loss: 0.0065 - accuracy: 0.9988 - val_loss: 0.2192 - val_accuracy: 0.9460\n",
      "Epoch 46/50\n",
      "282/282 [==============================] - 6s 20ms/step - loss: 0.0066 - accuracy: 0.9989 - val_loss: 0.2373 - val_accuracy: 0.9390\n",
      "Epoch 47/50\n",
      "282/282 [==============================] - 6s 20ms/step - loss: 0.0106 - accuracy: 0.9968 - val_loss: 0.2766 - val_accuracy: 0.9310\n",
      "Epoch 48/50\n",
      "282/282 [==============================] - 6s 20ms/step - loss: 0.0265 - accuracy: 0.9917 - val_loss: 0.2604 - val_accuracy: 0.9390\n",
      "Epoch 49/50\n",
      "282/282 [==============================] - 6s 20ms/step - loss: 0.0423 - accuracy: 0.9848 - val_loss: 0.2773 - val_accuracy: 0.9320\n",
      "Epoch 50/50\n",
      "282/282 [==============================] - 6s 20ms/step - loss: 0.0397 - accuracy: 0.9864 - val_loss: 0.2592 - val_accuracy: 0.9350\n"
     ]
    }
   ],
   "source": [
    "hist = model.fit(train_data, train_labels, validation_data=(test_data, test_labels), epochs = 50)"
   ]
  },
  {
   "cell_type": "markdown",
   "metadata": {},
   "source": [
    "# Visualize the Model Performance"
   ]
  },
  {
   "cell_type": "code",
   "execution_count": 14,
   "metadata": {
    "colab": {
     "base_uri": "https://localhost:8080/",
     "height": 282
    },
    "executionInfo": {
     "elapsed": 221,
     "status": "ok",
     "timestamp": 1670988179639,
     "user": {
      "displayName": "zeeshan ahmad",
      "userId": "09790783261567949831"
     },
     "user_tz": 300
    },
    "id": "suVKp9IdnJTv",
    "outputId": "cddbf36e-06b3-4511-fa1d-56c7bdf9ddd1"
   },
   "outputs": [],
   "source": [
    "trainAcc = [100 * x for x in hist.history['accuracy']]\n",
    "testAcc = [100 * x for x in hist.history['val_accuracy']]"
   ]
  },
  {
   "cell_type": "code",
   "execution_count": 15,
   "metadata": {
    "colab": {
     "base_uri": "https://localhost:8080/",
     "height": 282
    },
    "executionInfo": {
     "elapsed": 163,
     "status": "ok",
     "timestamp": 1670988179942,
     "user": {
      "displayName": "zeeshan ahmad",
      "userId": "09790783261567949831"
     },
     "user_tz": 300
    },
    "id": "mVscPk8InMdH",
    "outputId": "f7a52db5-a6ba-4782-dbc8-b88d9a5ad1dc"
   },
   "outputs": [
    {
     "data": {
      "image/png": "[encoded data removed]",
      "text/plain": [
       "<Figure size 1296x432 with 2 Axes>"
      ]
     },
     "metadata": {},
     "output_type": "display_data"
    }
   ],
   "source": [
    "fig,ax = plt.subplots(1,2,figsize=(18,6))\n",
    "\n",
    "ax[0].plot(hist.history['loss'], 'g', lw = 3, label = 'Train')\n",
    "ax[0].set_xlabel('Epochs', fontsize = 15)\n",
    "ax[0].set_ylabel('Loss', fontsize = 15)\n",
    "ax[0].legend(fontsize = 15)\n",
    "ax[0].set_title('Training Loss', fontsize = 15)\n",
    "\n",
    "\n",
    "ax[1].plot(trainAcc, label ='Train', lw = 3)\n",
    "ax[1].plot(testAcc, label ='Test', lw = 3)\n",
    "ax[1].set_xlabel('Epochs', fontsize = 15)\n",
    "ax[1].set_ylabel('Accuracy (%)', fontsize = 15)\n",
    "ax[1].set_ylim([10,110])\n",
    "ax[1].set_title(f'Train Accuracy: {trainAcc[-1]:.2f}% \\n Test Accuracy: {testAcc[-1]:.2f}%', fontsize = 15)\n",
    "ax[1].legend(fontsize = 15)\n",
    "\n",
    "plt.show()"
   ]
  },
  {
   "cell_type": "code",
   "execution_count": null,
   "metadata": {},
   "outputs": [],
   "source": []
  }
 ],
 "metadata": {
  "colab": {
   "authorship_tag": "ABX9TyPUm/mtkoj3nIq/suBBke8G",
   "provenance": []
  },
  "kernelspec": {
   "display_name": "Python 3 (ipykernel)",
   "language": "python",
   "name": "python3"
  },
  "language_info": {
   "codemirror_mode": {
    "name": "ipython",
    "version": 3
   },
   "file_extension": ".py",
   "mimetype": "text/x-python",
   "name": "python",
   "nbconvert_exporter": "python",
   "pygments_lexer": "ipython3",
   "version": "3.9.7"
  }
 },
 "nbformat": 4,
 "nbformat_minor": 1
}
