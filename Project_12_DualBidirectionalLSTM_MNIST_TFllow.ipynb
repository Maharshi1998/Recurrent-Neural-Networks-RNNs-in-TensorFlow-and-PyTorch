{
 "cells": [
  {
   "cell_type": "markdown",
   "metadata": {},
   "source": [
    "# Import Libraries"
   ]
  },
  {
   "cell_type": "code",
   "execution_count": 1,
   "metadata": {
    "executionInfo": {
     "elapsed": 5,
     "status": "ok",
     "timestamp": 1670987389229,
     "user": {
      "displayName": "zeeshan ahmad",
      "userId": "09790783261567949831"
     },
     "user_tz": 300
    },
    "id": "gDSnp031m54o"
   },
   "outputs": [],
   "source": [
    "import tensorflow as tf\n",
    "from tensorflow.keras.layers import Input, LSTM, Dense, Flatten, Bidirectional, GlobalMaxPooling1D, Lambda, Concatenate\n",
    "from tensorflow.keras.models import Model\n",
    "from tensorflow.keras.optimizers import SGD, Adam\n",
    "import keras.backend as K\n",
    "import numpy as np\n",
    "import pandas as pd\n",
    "import matplotlib.pyplot as plt\n",
    "from matplotlib import style\n",
    "style.use('dark_background')\n",
    "from sklearn.model_selection import train_test_split"
   ]
  },
  {
   "cell_type": "markdown",
   "metadata": {},
   "source": [
    "# Load in the data"
   ]
  },
  {
   "cell_type": "code",
   "execution_count": 2,
   "metadata": {
    "colab": {
     "base_uri": "https://localhost:8080/"
    },
    "executionInfo": {
     "elapsed": 1605,
     "status": "ok",
     "timestamp": 1670987397249,
     "user": {
      "displayName": "zeeshan ahmad",
      "userId": "09790783261567949831"
     },
     "user_tz": 300
    },
    "id": "F6arCxP1m-n4",
    "outputId": "8f617d48-99eb-4f96-b3b4-0010fcb10c06"
   },
   "outputs": [
    {
     "name": "stdout",
     "output_type": "stream",
     "text": [
      "x_train.shape: (60000, 28, 28)\n"
     ]
    }
   ],
   "source": [
    "mnist = tf.keras.datasets.mnist\n",
    "(x_train, y_train), _ = mnist.load_data()\n",
    "print(\"x_train.shape:\", x_train.shape)"
   ]
  },
  {
   "cell_type": "code",
   "execution_count": 3,
   "metadata": {},
   "outputs": [
    {
     "data": {
      "text/plain": [
       "dtype('uint8')"
      ]
     },
     "execution_count": 3,
     "metadata": {},
     "output_type": "execute_result"
    }
   ],
   "source": [
    "x_train.dtype"
   ]
  },
  {
   "cell_type": "markdown",
   "metadata": {},
   "source": [
    "# Extract first 10000 samples"
   ]
  },
  {
   "cell_type": "code",
   "execution_count": 4,
   "metadata": {},
   "outputs": [],
   "source": [
    "X  = x_train[0:10000, :]"
   ]
  },
  {
   "cell_type": "code",
   "execution_count": 5,
   "metadata": {},
   "outputs": [
    {
     "data": {
      "text/plain": [
       "(10000, 28, 28)"
      ]
     },
     "execution_count": 5,
     "metadata": {},
     "output_type": "execute_result"
    }
   ],
   "source": [
    "X.shape # N x T x D"
   ]
  },
  {
   "cell_type": "code",
   "execution_count": 6,
   "metadata": {},
   "outputs": [],
   "source": [
    "y = y_train[0:10000]"
   ]
  },
  {
   "cell_type": "code",
   "execution_count": 7,
   "metadata": {},
   "outputs": [
    {
     "data": {
      "text/plain": [
       "(10000,)"
      ]
     },
     "execution_count": 7,
     "metadata": {},
     "output_type": "execute_result"
    }
   ],
   "source": [
    "y.shape"
   ]
  },
  {
   "cell_type": "markdown",
   "metadata": {},
   "source": [
    "# Perform Train test split"
   ]
  },
  {
   "cell_type": "code",
   "execution_count": 8,
   "metadata": {},
   "outputs": [],
   "source": [
    "train_data, test_data, train_labels, test_labels = train_test_split(X, y, test_size = 0.1)"
   ]
  },
  {
   "cell_type": "code",
   "execution_count": 9,
   "metadata": {},
   "outputs": [
    {
     "data": {
      "text/plain": [
       "(28, 28)"
      ]
     },
     "execution_count": 9,
     "metadata": {},
     "output_type": "execute_result"
    }
   ],
   "source": [
    "train_data[0].shape  # shape of the first sample of train_data"
   ]
  },
  {
   "cell_type": "markdown",
   "metadata": {},
   "source": [
    "# Create the Model"
   ]
  },
  {
   "cell_type": "code",
   "execution_count": 10,
   "metadata": {},
   "outputs": [],
   "source": [
    "# input is an image of size 28x28\n",
    "\n",
    "input = Input(shape=(train_data[0].shape))\n",
    "\n",
    "# First LSTM ( up-down )\n",
    "rnn1 = Bidirectional(LSTM(128, return_sequences=True)) # return_sequences=True so that we get all the hidden states\n",
    "X1 = rnn1(input) # output is N x D x 2H\n",
    "X1 = GlobalMaxPooling1D()(X1) # output is N x 2H\n",
    "\n",
    "# Second LSTM ( left-right )\n",
    "rnn2 = Bidirectional(LSTM(128, return_sequences=True))\n",
    "\n",
    "# Custom layer. We need to create this layer to switch the dimension. We cannot do it directly because we get the \n",
    "# the error that history did not found, so we have to create a layer.\n",
    "\n",
    "permutor = Lambda(lambda t: K.permute_dimensions(t, pattern=(0, 2, 1)))\n",
    "\n",
    "X2 = permutor(input)\n",
    "X2 = rnn2(X2) # output is N x D x 2H\n",
    "X2 = GlobalMaxPooling1D()(X2) # output is N x 2H\n",
    "\n",
    "# put them together\n",
    "concatenator = Concatenate(axis=1)\n",
    "X = concatenator([X1, X2]) # output is N x 4H\n",
    "\n",
    "# final dense layer\n",
    "output = Dense(10, activation='softmax')(X) # N x C\n",
    "\n",
    "model = Model(inputs=input, outputs=output)"
   ]
  },
  {
   "cell_type": "code",
   "execution_count": 11,
   "metadata": {},
   "outputs": [
    {
     "name": "stdout",
     "output_type": "stream",
     "text": [
      "Model: \"model\"\n",
      "__________________________________________________________________________________________________\n",
      " Layer (type)                   Output Shape         Param #     Connected to                     \n",
      "==================================================================================================\n",
      " input_1 (InputLayer)           [(None, 28, 28)]     0           []                               \n",
      "                                                                                                  \n",
      " lambda (Lambda)                (None, 28, 28)       0           ['input_1[0][0]']                \n",
      "                                                                                                  \n",
      " bidirectional (Bidirectional)  (None, 28, 256)      160768      ['input_1[0][0]']                \n",
      "                                                                                                  \n",
      " bidirectional_1 (Bidirectional  (None, 28, 256)     160768      ['lambda[0][0]']                 \n",
      " )                                                                                                \n",
      "                                                                                                  \n",
      " global_max_pooling1d (GlobalMa  (None, 256)         0           ['bidirectional[0][0]']          \n",
      " xPooling1D)                                                                                      \n",
      "                                                                                                  \n",
      " global_max_pooling1d_1 (Global  (None, 256)         0           ['bidirectional_1[0][0]']        \n",
      " MaxPooling1D)                                                                                    \n",
      "                                                                                                  \n",
      " concatenate (Concatenate)      (None, 512)          0           ['global_max_pooling1d[0][0]',   \n",
      "                                                                  'global_max_pooling1d_1[0][0]'] \n",
      "                                                                                                  \n",
      " dense (Dense)                  (None, 10)           5130        ['concatenate[0][0]']            \n",
      "                                                                                                  \n",
      "==================================================================================================\n",
      "Total params: 326,666\n",
      "Trainable params: 326,666\n",
      "Non-trainable params: 0\n",
      "__________________________________________________________________________________________________\n"
     ]
    }
   ],
   "source": [
    "model.summary()"
   ]
  },
  {
   "cell_type": "markdown",
   "metadata": {},
   "source": [
    "# Compile the Model"
   ]
  },
  {
   "cell_type": "code",
   "execution_count": 12,
   "metadata": {
    "colab": {
     "base_uri": "https://localhost:8080/"
    },
    "executionInfo": {
     "elapsed": 767504,
     "status": "ok",
     "timestamp": 1670988179422,
     "user": {
      "displayName": "zeeshan ahmad",
      "userId": "09790783261567949831"
     },
     "user_tz": 300
    },
    "id": "KkhuW-IcnGSP",
    "outputId": "e68f0c7b-b9e7-49d8-c023-5ee9ada14308"
   },
   "outputs": [],
   "source": [
    "model.compile(optimizer='adam', loss='sparse_categorical_crossentropy', metrics=['accuracy'])"
   ]
  },
  {
   "cell_type": "markdown",
   "metadata": {},
   "source": [
    "# Train the Model"
   ]
  },
  {
   "cell_type": "code",
   "execution_count": 13,
   "metadata": {},
   "outputs": [
    {
     "name": "stdout",
     "output_type": "stream",
     "text": [
      "Epoch 1/50\n",
      "282/282 [==============================] - 16s 39ms/step - loss: 0.6540 - accuracy: 0.8276 - val_loss: 0.2604 - val_accuracy: 0.9420\n",
      "Epoch 2/50\n",
      "282/282 [==============================] - 10s 34ms/step - loss: 0.1901 - accuracy: 0.9494 - val_loss: 0.1789 - val_accuracy: 0.9510\n",
      "Epoch 3/50\n",
      "282/282 [==============================] - 10s 35ms/step - loss: 0.1208 - accuracy: 0.9701 - val_loss: 0.1580 - val_accuracy: 0.9540\n",
      "Epoch 4/50\n",
      "282/282 [==============================] - 10s 34ms/step - loss: 0.0938 - accuracy: 0.9751 - val_loss: 0.1455 - val_accuracy: 0.9560\n",
      "Epoch 5/50\n",
      "282/282 [==============================] - 10s 36ms/step - loss: 0.0780 - accuracy: 0.9810 - val_loss: 0.1409 - val_accuracy: 0.9620\n",
      "Epoch 6/50\n",
      "282/282 [==============================] - 10s 36ms/step - loss: 0.0619 - accuracy: 0.9837 - val_loss: 0.1369 - val_accuracy: 0.9580\n",
      "Epoch 7/50\n",
      "282/282 [==============================] - 10s 35ms/step - loss: 0.0480 - accuracy: 0.9897 - val_loss: 0.1411 - val_accuracy: 0.9500\n",
      "Epoch 8/50\n",
      "282/282 [==============================] - 10s 35ms/step - loss: 0.0402 - accuracy: 0.9906 - val_loss: 0.1362 - val_accuracy: 0.9630\n",
      "Epoch 9/50\n",
      "282/282 [==============================] - 10s 35ms/step - loss: 0.0372 - accuracy: 0.9906 - val_loss: 0.1181 - val_accuracy: 0.9650\n",
      "Epoch 10/50\n",
      "282/282 [==============================] - 10s 35ms/step - loss: 0.0401 - accuracy: 0.9893 - val_loss: 0.1282 - val_accuracy: 0.9560\n",
      "Epoch 11/50\n",
      "282/282 [==============================] - 10s 35ms/step - loss: 0.0425 - accuracy: 0.9879 - val_loss: 0.1140 - val_accuracy: 0.9640\n",
      "Epoch 12/50\n",
      "282/282 [==============================] - 10s 36ms/step - loss: 0.0333 - accuracy: 0.9917 - val_loss: 0.1275 - val_accuracy: 0.9610\n",
      "Epoch 13/50\n",
      "282/282 [==============================] - 10s 35ms/step - loss: 0.0251 - accuracy: 0.9939 - val_loss: 0.1322 - val_accuracy: 0.9620\n",
      "Epoch 14/50\n",
      "282/282 [==============================] - 10s 35ms/step - loss: 0.0182 - accuracy: 0.9964 - val_loss: 0.1097 - val_accuracy: 0.9710\n",
      "Epoch 15/50\n",
      "282/282 [==============================] - 10s 35ms/step - loss: 0.0238 - accuracy: 0.9930 - val_loss: 0.1230 - val_accuracy: 0.9610\n",
      "Epoch 16/50\n",
      "282/282 [==============================] - 10s 36ms/step - loss: 0.0222 - accuracy: 0.9943 - val_loss: 0.1133 - val_accuracy: 0.9610\n",
      "Epoch 17/50\n",
      "282/282 [==============================] - 10s 35ms/step - loss: 0.0199 - accuracy: 0.9938 - val_loss: 0.1201 - val_accuracy: 0.9610\n",
      "Epoch 18/50\n",
      "282/282 [==============================] - 10s 35ms/step - loss: 0.0176 - accuracy: 0.9959 - val_loss: 0.1412 - val_accuracy: 0.9600\n",
      "Epoch 19/50\n",
      "282/282 [==============================] - 10s 35ms/step - loss: 0.0105 - accuracy: 0.9979 - val_loss: 0.1357 - val_accuracy: 0.9550\n",
      "Epoch 20/50\n",
      "282/282 [==============================] - 10s 36ms/step - loss: 0.0047 - accuracy: 0.9996 - val_loss: 0.1252 - val_accuracy: 0.9650\n",
      "Epoch 21/50\n",
      "282/282 [==============================] - 10s 35ms/step - loss: 0.0015 - accuracy: 1.0000 - val_loss: 0.1144 - val_accuracy: 0.9670\n",
      "Epoch 22/50\n",
      "282/282 [==============================] - 10s 35ms/step - loss: 7.7561e-04 - accuracy: 1.0000 - val_loss: 0.1119 - val_accuracy: 0.9680\n",
      "Epoch 23/50\n",
      "282/282 [==============================] - 10s 35ms/step - loss: 5.1429e-04 - accuracy: 1.0000 - val_loss: 0.1125 - val_accuracy: 0.9680\n",
      "Epoch 24/50\n",
      "282/282 [==============================] - 10s 36ms/step - loss: 4.0489e-04 - accuracy: 1.0000 - val_loss: 0.1129 - val_accuracy: 0.9690\n",
      "Epoch 25/50\n",
      "282/282 [==============================] - 10s 35ms/step - loss: 3.3199e-04 - accuracy: 1.0000 - val_loss: 0.1137 - val_accuracy: 0.9670\n",
      "Epoch 26/50\n",
      "282/282 [==============================] - 10s 37ms/step - loss: 2.8058e-04 - accuracy: 1.0000 - val_loss: 0.1130 - val_accuracy: 0.9680\n",
      "Epoch 27/50\n",
      "282/282 [==============================] - 10s 37ms/step - loss: 2.4033e-04 - accuracy: 1.0000 - val_loss: 0.1156 - val_accuracy: 0.9660\n",
      "Epoch 28/50\n",
      "282/282 [==============================] - 11s 38ms/step - loss: 2.0760e-04 - accuracy: 1.0000 - val_loss: 0.1155 - val_accuracy: 0.9650\n",
      "Epoch 29/50\n",
      "282/282 [==============================] - 10s 37ms/step - loss: 1.7879e-04 - accuracy: 1.0000 - val_loss: 0.1156 - val_accuracy: 0.9670\n",
      "Epoch 30/50\n",
      "282/282 [==============================] - 10s 37ms/step - loss: 1.5591e-04 - accuracy: 1.0000 - val_loss: 0.1162 - val_accuracy: 0.9650\n",
      "Epoch 31/50\n",
      "282/282 [==============================] - 11s 38ms/step - loss: 1.3618e-04 - accuracy: 1.0000 - val_loss: 0.1168 - val_accuracy: 0.9660\n",
      "Epoch 32/50\n",
      "282/282 [==============================] - 11s 37ms/step - loss: 1.1821e-04 - accuracy: 1.0000 - val_loss: 0.1188 - val_accuracy: 0.9660\n",
      "Epoch 33/50\n",
      "282/282 [==============================] - 10s 37ms/step - loss: 1.0353e-04 - accuracy: 1.0000 - val_loss: 0.1196 - val_accuracy: 0.9660\n",
      "Epoch 34/50\n",
      "282/282 [==============================] - 10s 37ms/step - loss: 9.0376e-05 - accuracy: 1.0000 - val_loss: 0.1199 - val_accuracy: 0.9660\n",
      "Epoch 35/50\n",
      "282/282 [==============================] - 10s 37ms/step - loss: 7.8884e-05 - accuracy: 1.0000 - val_loss: 0.1210 - val_accuracy: 0.9660\n",
      "Epoch 36/50\n",
      "282/282 [==============================] - 10s 37ms/step - loss: 6.8882e-05 - accuracy: 1.0000 - val_loss: 0.1222 - val_accuracy: 0.9660\n",
      "Epoch 37/50\n",
      "282/282 [==============================] - 10s 37ms/step - loss: 6.0054e-05 - accuracy: 1.0000 - val_loss: 0.1221 - val_accuracy: 0.9650\n",
      "Epoch 38/50\n",
      "282/282 [==============================] - 11s 38ms/step - loss: 5.2159e-05 - accuracy: 1.0000 - val_loss: 0.1228 - val_accuracy: 0.9650\n",
      "Epoch 39/50\n",
      "282/282 [==============================] - 11s 39ms/step - loss: 4.5623e-05 - accuracy: 1.0000 - val_loss: 0.1218 - val_accuracy: 0.9660\n",
      "Epoch 40/50\n",
      "282/282 [==============================] - 11s 38ms/step - loss: 3.9814e-05 - accuracy: 1.0000 - val_loss: 0.1239 - val_accuracy: 0.9650\n",
      "Epoch 41/50\n",
      "282/282 [==============================] - 10s 36ms/step - loss: 3.4708e-05 - accuracy: 1.0000 - val_loss: 0.1249 - val_accuracy: 0.9650\n",
      "Epoch 42/50\n",
      "282/282 [==============================] - 11s 38ms/step - loss: 3.0287e-05 - accuracy: 1.0000 - val_loss: 0.1275 - val_accuracy: 0.9650\n",
      "Epoch 43/50\n",
      "282/282 [==============================] - 11s 38ms/step - loss: 2.6473e-05 - accuracy: 1.0000 - val_loss: 0.1265 - val_accuracy: 0.9650\n",
      "Epoch 44/50\n",
      "282/282 [==============================] - 11s 38ms/step - loss: 2.3107e-05 - accuracy: 1.0000 - val_loss: 0.1286 - val_accuracy: 0.9650\n",
      "Epoch 45/50\n",
      "282/282 [==============================] - 10s 37ms/step - loss: 2.0224e-05 - accuracy: 1.0000 - val_loss: 0.1277 - val_accuracy: 0.9670\n",
      "Epoch 46/50\n",
      "282/282 [==============================] - 10s 37ms/step - loss: 1.7543e-05 - accuracy: 1.0000 - val_loss: 0.1285 - val_accuracy: 0.9670\n",
      "Epoch 47/50\n",
      "282/282 [==============================] - 10s 37ms/step - loss: 1.5208e-05 - accuracy: 1.0000 - val_loss: 0.1303 - val_accuracy: 0.9660\n",
      "Epoch 48/50\n",
      "282/282 [==============================] - 11s 38ms/step - loss: 1.3237e-05 - accuracy: 1.0000 - val_loss: 0.1304 - val_accuracy: 0.9670\n",
      "Epoch 49/50\n",
      "282/282 [==============================] - 11s 39ms/step - loss: 1.1501e-05 - accuracy: 1.0000 - val_loss: 0.1319 - val_accuracy: 0.9680\n",
      "Epoch 50/50\n",
      "282/282 [==============================] - 11s 37ms/step - loss: 9.9406e-06 - accuracy: 1.0000 - val_loss: 0.1316 - val_accuracy: 0.9670\n"
     ]
    }
   ],
   "source": [
    "hist = model.fit(train_data, train_labels, validation_data=(test_data, test_labels), epochs = 50)"
   ]
  },
  {
   "cell_type": "markdown",
   "metadata": {},
   "source": [
    "# Visualize the Model Performance"
   ]
  },
  {
   "cell_type": "code",
   "execution_count": 16,
   "metadata": {
    "colab": {
     "base_uri": "https://localhost:8080/",
     "height": 282
    },
    "executionInfo": {
     "elapsed": 221,
     "status": "ok",
     "timestamp": 1670988179639,
     "user": {
      "displayName": "zeeshan ahmad",
      "userId": "09790783261567949831"
     },
     "user_tz": 300
    },
    "id": "suVKp9IdnJTv",
    "outputId": "cddbf36e-06b3-4511-fa1d-56c7bdf9ddd1"
   },
   "outputs": [],
   "source": [
    "trainAcc = [100 * x for x in hist.history['accuracy']]\n",
    "testAcc = [100 * x for x in hist.history['val_accuracy']]"
   ]
  },
  {
   "cell_type": "code",
   "execution_count": 17,
   "metadata": {
    "colab": {
     "base_uri": "https://localhost:8080/",
     "height": 282
    },
    "executionInfo": {
     "elapsed": 163,
     "status": "ok",
     "timestamp": 1670988179942,
     "user": {
      "displayName": "zeeshan ahmad",
      "userId": "09790783261567949831"
     },
     "user_tz": 300
    },
    "id": "mVscPk8InMdH",
    "outputId": "f7a52db5-a6ba-4782-dbc8-b88d9a5ad1dc"
   },
   "outputs": [
    {
     "data": {
      "image/png": "[encoded data removed]",
      "text/plain": [
       "<Figure size 1296x432 with 2 Axes>"
      ]
     },
     "metadata": {},
     "output_type": "display_data"
    }
   ],
   "source": [
    "fig,ax = plt.subplots(1,2,figsize=(18,6))\n",
    "\n",
    "ax[0].plot(hist.history['loss'], 'g', lw = 3, label = 'Train')\n",
    "ax[0].set_xlabel('Epochs', fontsize = 15)\n",
    "ax[0].set_ylabel('Loss', fontsize = 15)\n",
    "ax[0].legend(fontsize = 15)\n",
    "ax[0].set_title('Training Loss', fontsize = 15)\n",
    "\n",
    "\n",
    "ax[1].plot(trainAcc, label ='Train', lw = 3)\n",
    "ax[1].plot(testAcc, label ='Test', lw = 3)\n",
    "ax[1].set_xlabel('Epochs', fontsize = 15)\n",
    "ax[1].set_ylabel('Accuracy (%)', fontsize = 15)\n",
    "ax[1].set_ylim([10,110])\n",
    "ax[1].set_title(f'Train Accuracy: {trainAcc[-1]:.2f}% \\n Test Accuracy: {testAcc[-1]:.2f}%', fontsize = 15)\n",
    "ax[1].legend(fontsize = 15)\n",
    "\n",
    "plt.show()"
   ]
  },
  {
   "cell_type": "code",
   "execution_count": null,
   "metadata": {},
   "outputs": [],
   "source": []
  },
  {
   "cell_type": "code",
   "execution_count": null,
   "metadata": {},
   "outputs": [],
   "source": []
  },
  {
   "cell_type": "code",
   "execution_count": null,
   "metadata": {},
   "outputs": [],
   "source": []
  },
  {
   "cell_type": "code",
   "execution_count": null,
   "metadata": {},
   "outputs": [],
   "source": []
  },
  {
   "cell_type": "code",
   "execution_count": null,
   "metadata": {},
   "outputs": [],
   "source": []
  },
  {
   "cell_type": "code",
   "execution_count": null,
   "metadata": {},
   "outputs": [],
   "source": []
  },
  {
   "cell_type": "markdown",
   "metadata": {},
   "source": [
    "# Creating Function Using Lambda"
   ]
  },
  {
   "cell_type": "code",
   "execution_count": null,
   "metadata": {},
   "outputs": [],
   "source": [
    "square = lambda num: num ** 2   # we use lamda when we need quick results and we dont want to save it for longer time"
   ]
  },
  {
   "cell_type": "code",
   "execution_count": null,
   "metadata": {},
   "outputs": [],
   "source": [
    "square(6)"
   ]
  },
  {
   "cell_type": "markdown",
   "metadata": {},
   "source": [
    "# Understanding Permutor"
   ]
  },
  {
   "cell_type": "code",
   "execution_count": 22,
   "metadata": {},
   "outputs": [],
   "source": [
    "x = np.random.rand(32, 28, 10)"
   ]
  },
  {
   "cell_type": "code",
   "execution_count": 23,
   "metadata": {},
   "outputs": [],
   "source": [
    "permutor = Lambda(lambda t: K.permute_dimensions(t, pattern=(0, 2, 1)))"
   ]
  },
  {
   "cell_type": "code",
   "execution_count": 24,
   "metadata": {},
   "outputs": [],
   "source": [
    "output = permutor(x)"
   ]
  },
  {
   "cell_type": "code",
   "execution_count": 25,
   "metadata": {},
   "outputs": [
    {
     "data": {
      "text/plain": [
       "TensorShape([32, 10, 28])"
      ]
     },
     "execution_count": 25,
     "metadata": {},
     "output_type": "execute_result"
    }
   ],
   "source": [
    "output.shape"
   ]
  },
  {
   "cell_type": "code",
   "execution_count": null,
   "metadata": {},
   "outputs": [],
   "source": []
  }
 ],
 "metadata": {
  "colab": {
   "authorship_tag": "ABX9TyPUm/mtkoj3nIq/suBBke8G",
   "provenance": []
  },
  "kernelspec": {
   "display_name": "Python 3 (ipykernel)",
   "language": "python",
   "name": "python3"
  },
  "language_info": {
   "codemirror_mode": {
    "name": "ipython",
    "version": 3
   },
   "file_extension": ".py",
   "mimetype": "text/x-python",
   "name": "python",
   "nbconvert_exporter": "python",
   "pygments_lexer": "ipython3",
   "version": "3.9.7"
  }
 },
 "nbformat": 4,
 "nbformat_minor": 1
}
