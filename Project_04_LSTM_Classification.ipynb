{
 "cells": [
  {
   "cell_type": "markdown",
   "metadata": {},
   "source": [
    "# Time Series Classification"
   ]
  },
  {
   "cell_type": "code",
   "execution_count": 1,
   "metadata": {
    "executionInfo": {
     "elapsed": 141,
     "status": "ok",
     "timestamp": 1692356581665,
     "user": {
      "displayName": "zeeshan ahmad",
      "userId": "09790783261567949831"
     },
     "user_tz": 240
    },
    "id": "YeuAheYyhdZw"
   },
   "outputs": [],
   "source": [
    "import torch.nn as nn\n",
    "import torch.nn.functional as F\n",
    "from torch.utils.data import DataLoader,TensorDataset\n",
    "from sklearn.model_selection import train_test_split\n",
    "import numpy as np\n",
    "import matplotlib.pyplot as plt\n",
    "from matplotlib import style\n",
    "style.use('dark_background')\n",
    "import pandas as pd"
   ]
  },
  {
   "cell_type": "code",
   "execution_count": 2,
   "metadata": {
    "colab": {
     "base_uri": "https://localhost:8080/"
    },
    "executionInfo": {
     "elapsed": 118,
     "status": "ok",
     "timestamp": 1692356588513,
     "user": {
      "displayName": "zeeshan ahmad",
      "userId": "09790783261567949831"
     },
     "user_tz": 240
    },
    "id": "q0vavhYD3JrU",
    "outputId": "8fb9c0d6-aac9-4d5a-9e80-be0552eed8ca"
   },
   "outputs": [
    {
     "data": {
      "text/plain": [
       "True"
      ]
     },
     "execution_count": 2,
     "metadata": {},
     "output_type": "execute_result"
    }
   ],
   "source": [
    "import torch\n",
    "torch.cuda.is_available()"
   ]
  },
  {
   "cell_type": "code",
   "execution_count": 3,
   "metadata": {
    "colab": {
     "base_uri": "https://localhost:8080/"
    },
    "executionInfo": {
     "elapsed": 134,
     "status": "ok",
     "timestamp": 1692356592222,
     "user": {
      "displayName": "zeeshan ahmad",
      "userId": "09790783261567949831"
     },
     "user_tz": 240
    },
    "id": "L9LrWWsv3JrY",
    "outputId": "28aed768-a67c-495c-f806-443474046bf4"
   },
   "outputs": [
    {
     "name": "stdout",
     "output_type": "stream",
     "text": [
      "cuda:0\n"
     ]
    }
   ],
   "source": [
    "device = torch.device('cuda:0' if torch.cuda.is_available() else 'cpu')\n",
    "print(device)"
   ]
  },
  {
   "cell_type": "code",
   "execution_count": null,
   "metadata": {
    "colab": {
     "base_uri": "https://localhost:8080/"
    },
    "executionInfo": {
     "elapsed": 864,
     "status": "ok",
     "timestamp": 1692356616087,
     "user": {
      "displayName": "zeeshan ahmad",
      "userId": "09790783261567949831"
     },
     "user_tz": 240
    },
    "id": "LX0WWEo23aeF",
    "outputId": "16caa7df-9d34-4a95-94d6-4beb144d13ac"
   },
   "outputs": [],
   "source": [
    "from google.colab import drive\n",
    "drive.mount('/content/drive')"
   ]
  },
  {
   "cell_type": "code",
   "execution_count": null,
   "metadata": {
    "colab": {
     "base_uri": "https://localhost:8080/"
    },
    "executionInfo": {
     "elapsed": 221,
     "status": "ok",
     "timestamp": 1692356617552,
     "user": {
      "displayName": "zeeshan ahmad",
      "userId": "09790783261567949831"
     },
     "user_tz": 240
    },
    "id": "7ztpO4Dr3k4y",
    "outputId": "c58cb788-a58f-442b-8e07-0428810295b6"
   },
   "outputs": [],
   "source": [
    "%cd /content/drive/MyDrive/Course Material/Supervised Machine Learning/Recurrent Neural Networks (RNN)"
   ]
  },
  {
   "cell_type": "markdown",
   "metadata": {
    "id": "6kB9TSKZ65bL"
   },
   "source": [
    "# Importing the data"
   ]
  },
  {
   "cell_type": "code",
   "execution_count": 4,
   "metadata": {
    "executionInfo": {
     "elapsed": 10963,
     "status": "ok",
     "timestamp": 1692356632253,
     "user": {
      "displayName": "zeeshan ahmad",
      "userId": "09790783261567949831"
     },
     "user_tz": 240
    },
    "id": "O-XrLKRH3Jra"
   },
   "outputs": [],
   "source": [
    "df2 = pd.read_csv('WESAD_Data/user2.csv', header = None)\n",
    "df3 = pd.read_csv('WESAD_Data/user3.csv', header = None)\n",
    "df4 = pd.read_csv('WESAD_Data/user4.csv', header = None)\n",
    "df5 = pd.read_csv('WESAD_Data/user5.csv', header = None)\n",
    "df6 = pd.read_csv('WESAD_Data/user6.csv', header = None)\n",
    "df7 = pd.read_csv('WESAD_Data/user7.csv', header = None)\n",
    "df8 = pd.read_csv('WESAD_Data/user8.csv', header = None)\n",
    "df9 = pd.read_csv('WESAD_Data/user9.csv', header = None)\n",
    "df10 = pd.read_csv('WESAD_Data/user10.csv', header = None)\n",
    "df11 = pd.read_csv('WESAD_Data/user11.csv', header = None)\n",
    "df13 = pd.read_csv('WESAD_Data/user13.csv', header = None)\n",
    "df14 = pd.read_csv('WESAD_Data/user14.csv', header = None)\n",
    "df15 = pd.read_csv('WESAD_Data/user15.csv', header = None)\n",
    "df16 = pd.read_csv('WESAD_Data/user16.csv', header = None)\n",
    "df17 = pd.read_csv('WESAD_Data/user17.csv', header = None)"
   ]
  },
  {
   "cell_type": "code",
   "execution_count": 5,
   "metadata": {
    "colab": {
     "base_uri": "https://localhost:8080/",
     "height": 255
    },
    "executionInfo": {
     "elapsed": 118,
     "status": "ok",
     "timestamp": 1692356696937,
     "user": {
      "displayName": "zeeshan ahmad",
      "userId": "09790783261567949831"
     },
     "user_tz": 240
    },
    "id": "saQoYMX_3Jrc",
    "outputId": "e7ce48db-50de-42b1-f9d3-cc5bdf87c282"
   },
   "outputs": [
    {
     "data": {
      "text/html": [
       "<div>\n",
       "<style scoped>\n",
       "    .dataframe tbody tr th:only-of-type {\n",
       "        vertical-align: middle;\n",
       "    }\n",
       "\n",
       "    .dataframe tbody tr th {\n",
       "        vertical-align: top;\n",
       "    }\n",
       "\n",
       "    .dataframe thead th {\n",
       "        text-align: right;\n",
       "    }\n",
       "</style>\n",
       "<table border=\"1\" class=\"dataframe\">\n",
       "  <thead>\n",
       "    <tr style=\"text-align: right;\">\n",
       "      <th></th>\n",
       "      <th>0</th>\n",
       "      <th>1</th>\n",
       "      <th>2</th>\n",
       "      <th>3</th>\n",
       "      <th>4</th>\n",
       "      <th>5</th>\n",
       "      <th>6</th>\n",
       "      <th>7</th>\n",
       "      <th>8</th>\n",
       "      <th>9</th>\n",
       "      <th>...</th>\n",
       "      <th>247</th>\n",
       "      <th>248</th>\n",
       "      <th>249</th>\n",
       "      <th>250</th>\n",
       "      <th>251</th>\n",
       "      <th>252</th>\n",
       "      <th>253</th>\n",
       "      <th>254</th>\n",
       "      <th>255</th>\n",
       "      <th>256</th>\n",
       "    </tr>\n",
       "  </thead>\n",
       "  <tbody>\n",
       "    <tr>\n",
       "      <th>0</th>\n",
       "      <td>-0.874131</td>\n",
       "      <td>-0.830702</td>\n",
       "      <td>-0.780308</td>\n",
       "      <td>-0.769246</td>\n",
       "      <td>-0.777440</td>\n",
       "      <td>-0.799565</td>\n",
       "      <td>-0.838897</td>\n",
       "      <td>-0.886832</td>\n",
       "      <td>-0.953205</td>\n",
       "      <td>-1.030640</td>\n",
       "      <td>...</td>\n",
       "      <td>-0.096506</td>\n",
       "      <td>-0.103881</td>\n",
       "      <td>-0.110436</td>\n",
       "      <td>-0.102242</td>\n",
       "      <td>-0.085854</td>\n",
       "      <td>-0.045703</td>\n",
       "      <td>0.018212</td>\n",
       "      <td>0.073113</td>\n",
       "      <td>0.120639</td>\n",
       "      <td>0</td>\n",
       "    </tr>\n",
       "    <tr>\n",
       "      <th>1</th>\n",
       "      <td>0.161200</td>\n",
       "      <td>0.175540</td>\n",
       "      <td>0.151777</td>\n",
       "      <td>0.107118</td>\n",
       "      <td>0.047711</td>\n",
       "      <td>-0.012926</td>\n",
       "      <td>-0.069466</td>\n",
       "      <td>-0.090770</td>\n",
       "      <td>-0.093229</td>\n",
       "      <td>-0.101013</td>\n",
       "      <td>...</td>\n",
       "      <td>-0.916331</td>\n",
       "      <td>-0.914693</td>\n",
       "      <td>-0.903630</td>\n",
       "      <td>-0.857333</td>\n",
       "      <td>-0.797926</td>\n",
       "      <td>-0.745483</td>\n",
       "      <td>-0.718443</td>\n",
       "      <td>-0.706971</td>\n",
       "      <td>-0.723359</td>\n",
       "      <td>0</td>\n",
       "    </tr>\n",
       "    <tr>\n",
       "      <th>2</th>\n",
       "      <td>-0.763101</td>\n",
       "      <td>-0.807759</td>\n",
       "      <td>-0.834800</td>\n",
       "      <td>-0.852827</td>\n",
       "      <td>-0.867986</td>\n",
       "      <td>-0.850368</td>\n",
       "      <td>-0.783996</td>\n",
       "      <td>-0.715984</td>\n",
       "      <td>-0.650021</td>\n",
       "      <td>-0.585288</td>\n",
       "      <td>...</td>\n",
       "      <td>0.069016</td>\n",
       "      <td>0.107938</td>\n",
       "      <td>0.120639</td>\n",
       "      <td>0.124736</td>\n",
       "      <td>0.127604</td>\n",
       "      <td>0.114083</td>\n",
       "      <td>0.089501</td>\n",
       "      <td>0.057134</td>\n",
       "      <td>0.007969</td>\n",
       "      <td>0</td>\n",
       "    </tr>\n",
       "    <tr>\n",
       "      <th>3</th>\n",
       "      <td>-0.042015</td>\n",
       "      <td>-0.057994</td>\n",
       "      <td>-0.053077</td>\n",
       "      <td>-0.017023</td>\n",
       "      <td>0.031323</td>\n",
       "      <td>0.082946</td>\n",
       "      <td>0.135388</td>\n",
       "      <td>0.155874</td>\n",
       "      <td>0.163248</td>\n",
       "      <td>0.144402</td>\n",
       "      <td>...</td>\n",
       "      <td>0.141534</td>\n",
       "      <td>0.109167</td>\n",
       "      <td>0.089501</td>\n",
       "      <td>0.050169</td>\n",
       "      <td>-0.005551</td>\n",
       "      <td>-0.014155</td>\n",
       "      <td>0.000594</td>\n",
       "      <td>0.045253</td>\n",
       "      <td>0.087043</td>\n",
       "      <td>0</td>\n",
       "    </tr>\n",
       "    <tr>\n",
       "      <th>4</th>\n",
       "      <td>0.128014</td>\n",
       "      <td>0.193976</td>\n",
       "      <td>0.258301</td>\n",
       "      <td>0.295174</td>\n",
       "      <td>0.293535</td>\n",
       "      <td>0.262398</td>\n",
       "      <td>0.212413</td>\n",
       "      <td>0.159151</td>\n",
       "      <td>0.098515</td>\n",
       "      <td>0.053447</td>\n",
       "      <td>...</td>\n",
       "      <td>-1.437070</td>\n",
       "      <td>-1.522289</td>\n",
       "      <td>-1.572683</td>\n",
       "      <td>-1.611605</td>\n",
       "      <td>-1.624716</td>\n",
       "      <td>-1.624716</td>\n",
       "      <td>-1.610786</td>\n",
       "      <td>-1.596856</td>\n",
       "      <td>-1.577190</td>\n",
       "      <td>0</td>\n",
       "    </tr>\n",
       "  </tbody>\n",
       "</table>\n",
       "<p>5 rows × 257 columns</p>\n",
       "</div>"
      ],
      "text/plain": [
       "        0         1         2         3         4         5         6    \\\n",
       "0 -0.874131 -0.830702 -0.780308 -0.769246 -0.777440 -0.799565 -0.838897   \n",
       "1  0.161200  0.175540  0.151777  0.107118  0.047711 -0.012926 -0.069466   \n",
       "2 -0.763101 -0.807759 -0.834800 -0.852827 -0.867986 -0.850368 -0.783996   \n",
       "3 -0.042015 -0.057994 -0.053077 -0.017023  0.031323  0.082946  0.135388   \n",
       "4  0.128014  0.193976  0.258301  0.295174  0.293535  0.262398  0.212413   \n",
       "\n",
       "        7         8         9    ...       247       248       249       250  \\\n",
       "0 -0.886832 -0.953205 -1.030640  ... -0.096506 -0.103881 -0.110436 -0.102242   \n",
       "1 -0.090770 -0.093229 -0.101013  ... -0.916331 -0.914693 -0.903630 -0.857333   \n",
       "2 -0.715984 -0.650021 -0.585288  ...  0.069016  0.107938  0.120639  0.124736   \n",
       "3  0.155874  0.163248  0.144402  ...  0.141534  0.109167  0.089501  0.050169   \n",
       "4  0.159151  0.098515  0.053447  ... -1.437070 -1.522289 -1.572683 -1.611605   \n",
       "\n",
       "        251       252       253       254       255  256  \n",
       "0 -0.085854 -0.045703  0.018212  0.073113  0.120639    0  \n",
       "1 -0.797926 -0.745483 -0.718443 -0.706971 -0.723359    0  \n",
       "2  0.127604  0.114083  0.089501  0.057134  0.007969    0  \n",
       "3 -0.005551 -0.014155  0.000594  0.045253  0.087043    0  \n",
       "4 -1.624716 -1.624716 -1.610786 -1.596856 -1.577190    0  \n",
       "\n",
       "[5 rows x 257 columns]"
      ]
     },
     "execution_count": 5,
     "metadata": {},
     "output_type": "execute_result"
    }
   ],
   "source": [
    "df2.head()"
   ]
  },
  {
   "cell_type": "code",
   "execution_count": 6,
   "metadata": {
    "colab": {
     "base_uri": "https://localhost:8080/",
     "height": 447
    },
    "executionInfo": {
     "elapsed": 266,
     "status": "ok",
     "timestamp": 1692356787223,
     "user": {
      "displayName": "zeeshan ahmad",
      "userId": "09790783261567949831"
     },
     "user_tz": 240
    },
    "id": "ThhkW_KxRrpS",
    "outputId": "099d3f3d-878d-4745-cf9f-cbbefd0e3a16"
   },
   "outputs": [
    {
     "data": {
      "text/plain": [
       "[<matplotlib.lines.Line2D at 0x2228241f850>]"
      ]
     },
     "execution_count": 6,
     "metadata": {},
     "output_type": "execute_result"
    },
    {
     "data": {
      "image/png": "[encoded data removed]",
      "text/plain": [
       "<Figure size 432x288 with 1 Axes>"
      ]
     },
     "metadata": {},
     "output_type": "display_data"
    }
   ],
   "source": [
    "plt.plot(df2.iloc[2,:-1])"
   ]
  },
  {
   "cell_type": "code",
   "execution_count": 7,
   "metadata": {
    "executionInfo": {
     "elapsed": 138,
     "status": "ok",
     "timestamp": 1692356923204,
     "user": {
      "displayName": "zeeshan ahmad",
      "userId": "09790783261567949831"
     },
     "user_tz": 240
    },
    "id": "u-NT8Aog3Jre"
   },
   "outputs": [],
   "source": [
    "data = pd.concat([df2, df3, df4, df5, df6, df7, df8, df9, df10, df11, df13, df14, df15, df16, df17])"
   ]
  },
  {
   "cell_type": "code",
   "execution_count": 8,
   "metadata": {
    "colab": {
     "base_uri": "https://localhost:8080/"
    },
    "executionInfo": {
     "elapsed": 145,
     "status": "ok",
     "timestamp": 1692356924849,
     "user": {
      "displayName": "zeeshan ahmad",
      "userId": "09790783261567949831"
     },
     "user_tz": 240
    },
    "id": "y6h91sRt3Jrg",
    "outputId": "a4ecd447-3a8e-479e-ae00-688625824a9c"
   },
   "outputs": [
    {
     "data": {
      "text/plain": [
       "(90630, 257)"
      ]
     },
     "execution_count": 8,
     "metadata": {},
     "output_type": "execute_result"
    }
   ],
   "source": [
    "data.shape"
   ]
  },
  {
   "cell_type": "code",
   "execution_count": 9,
   "metadata": {
    "colab": {
     "base_uri": "https://localhost:8080/"
    },
    "executionInfo": {
     "elapsed": 139,
     "status": "ok",
     "timestamp": 1692356935202,
     "user": {
      "displayName": "zeeshan ahmad",
      "userId": "09790783261567949831"
     },
     "user_tz": 240
    },
    "id": "jVRWZC6s3Jrh",
    "outputId": "f36549b8-bede-4bb6-d6cc-f1b3954d77c3"
   },
   "outputs": [
    {
     "data": {
      "text/plain": [
       "1    48147\n",
       "2    27244\n",
       "0    15239\n",
       "Name: 256, dtype: int64"
      ]
     },
     "execution_count": 9,
     "metadata": {},
     "output_type": "execute_result"
    }
   ],
   "source": [
    "data[256].value_counts()"
   ]
  },
  {
   "cell_type": "markdown",
   "metadata": {
    "id": "9efX_oDI6-Cy"
   },
   "source": [
    "# Extracting Seqlength(T) and Labels"
   ]
  },
  {
   "cell_type": "code",
   "execution_count": 10,
   "metadata": {
    "executionInfo": {
     "elapsed": 161,
     "status": "ok",
     "timestamp": 1692356980029,
     "user": {
      "displayName": "zeeshan ahmad",
      "userId": "09790783261567949831"
     },
     "user_tz": 240
    },
    "id": "n1hQ9OPU3Jrk"
   },
   "outputs": [],
   "source": [
    "X = data[data.columns[0:-1]].values\n",
    "y = data[data.columns[-1]].values"
   ]
  },
  {
   "cell_type": "code",
   "execution_count": 11,
   "metadata": {
    "executionInfo": {
     "elapsed": 436,
     "status": "ok",
     "timestamp": 1692356990437,
     "user": {
      "displayName": "zeeshan ahmad",
      "userId": "09790783261567949831"
     },
     "user_tz": 240
    },
    "id": "aRPCMhXV3Jrl"
   },
   "outputs": [],
   "source": [
    "X_train, X_test, y_train, y_test = train_test_split(X, y, test_size = 0.2, random_state=42)"
   ]
  },
  {
   "cell_type": "code",
   "execution_count": 12,
   "metadata": {
    "colab": {
     "base_uri": "https://localhost:8080/"
    },
    "executionInfo": {
     "elapsed": 120,
     "status": "ok",
     "timestamp": 1692356993275,
     "user": {
      "displayName": "zeeshan ahmad",
      "userId": "09790783261567949831"
     },
     "user_tz": 240
    },
    "id": "587uRiBj3Jrl",
    "outputId": "2e5baa3c-fe7c-451f-a0ca-7bc34ff2c62d"
   },
   "outputs": [
    {
     "name": "stdout",
     "output_type": "stream",
     "text": [
      "(72504, 256)\n",
      "(18126, 256)\n"
     ]
    }
   ],
   "source": [
    "print(X_train.shape)\n",
    "print(X_test.shape)"
   ]
  },
  {
   "cell_type": "markdown",
   "metadata": {
    "id": "lIGQk-ZF7GQj"
   },
   "source": [
    "# Reshaping to (Batchsize, seqlength, inputsize)"
   ]
  },
  {
   "cell_type": "code",
   "execution_count": 13,
   "metadata": {
    "executionInfo": {
     "elapsed": 131,
     "status": "ok",
     "timestamp": 1692357093439,
     "user": {
      "displayName": "zeeshan ahmad",
      "userId": "09790783261567949831"
     },
     "user_tz": 240
    },
    "id": "ufWW7p9l3Jrm"
   },
   "outputs": [],
   "source": [
    "N_train = X_train.shape[0]\n",
    "D = 1\n",
    "T = X_train.shape[1]\n",
    "N_test = X_test.shape[0]"
   ]
  },
  {
   "cell_type": "code",
   "execution_count": 14,
   "metadata": {
    "executionInfo": {
     "elapsed": 131,
     "status": "ok",
     "timestamp": 1692357102443,
     "user": {
      "displayName": "zeeshan ahmad",
      "userId": "09790783261567949831"
     },
     "user_tz": 240
    },
    "id": "aCLdhUF43Jrm"
   },
   "outputs": [],
   "source": [
    "X_train = X_train.reshape(N_train,T,D) # N x T x D\n",
    "X_test = X_test.reshape(N_test,T,D)"
   ]
  },
  {
   "cell_type": "code",
   "execution_count": 15,
   "metadata": {
    "colab": {
     "base_uri": "https://localhost:8080/"
    },
    "executionInfo": {
     "elapsed": 117,
     "status": "ok",
     "timestamp": 1692357104276,
     "user": {
      "displayName": "zeeshan ahmad",
      "userId": "09790783261567949831"
     },
     "user_tz": 240
    },
    "id": "7W8Euucl3Jrm",
    "outputId": "7cf13edd-7ffd-4790-86da-f4060a4ff216"
   },
   "outputs": [
    {
     "name": "stdout",
     "output_type": "stream",
     "text": [
      "(72504, 256, 1)\n",
      "(72504,)\n",
      "(18126, 256, 1)\n",
      "(18126,)\n"
     ]
    }
   ],
   "source": [
    "print(X_train.shape)\n",
    "print(y_train.shape)\n",
    "print(X_test.shape)\n",
    "print(y_test.shape)"
   ]
  },
  {
   "cell_type": "markdown",
   "metadata": {
    "id": "OhLQ2YSvpiGj"
   },
   "source": [
    "# Transform to Tensor and Using DataLoader"
   ]
  },
  {
   "cell_type": "code",
   "execution_count": 24,
   "metadata": {
    "executionInfo": {
     "elapsed": 282,
     "status": "ok",
     "timestamp": 1692357142726,
     "user": {
      "displayName": "zeeshan ahmad",
      "userId": "09790783261567949831"
     },
     "user_tz": 240
    },
    "id": "Y_tZ1ymVp0Sf"
   },
   "outputs": [],
   "source": [
    "# Convert to tensor\n",
    "train_data = torch.tensor(X_train).float()\n",
    "train_labels = torch.tensor(y_train).long()\n",
    "test_data = torch.tensor(X_test).float()\n",
    "test_labels = torch.tensor(y_test).long()\n",
    "\n",
    "\n",
    "# Convert to PyTorch Datasets\n",
    "train_data = TensorDataset(train_data,train_labels)\n",
    "test_data  = TensorDataset(test_data,test_labels)\n",
    "\n",
    "# Translate into dataloader objects\n",
    "batchsize    = 32\n",
    "train_loader = DataLoader(train_data,batch_size=batchsize,shuffle=True,drop_last=True)\n",
    "test_loader  = DataLoader(test_data,batch_size=batchsize, drop_last=True)"
   ]
  },
  {
   "cell_type": "markdown",
   "metadata": {
    "id": "W_ycZUPW3Jrq"
   },
   "source": [
    "# Observe the batches of training and test data"
   ]
  },
  {
   "cell_type": "code",
   "execution_count": 25,
   "metadata": {
    "colab": {
     "base_uri": "https://localhost:8080/"
    },
    "executionInfo": {
     "elapsed": 132,
     "status": "ok",
     "timestamp": 1692357171618,
     "user": {
      "displayName": "zeeshan ahmad",
      "userId": "09790783261567949831"
     },
     "user_tz": 240
    },
    "id": "cFTx5jrI3Jrq",
    "outputId": "591379e1-b67d-4c17-d459-720729d4f9d9"
   },
   "outputs": [
    {
     "name": "stdout",
     "output_type": "stream",
     "text": [
      "torch.Size([32, 256, 1])\n",
      "torch.Size([32])\n"
     ]
    }
   ],
   "source": [
    "for x,y in train_loader:\n",
    "    break\n",
    "print(x.shape)\n",
    "print(y.shape)"
   ]
  },
  {
   "cell_type": "code",
   "execution_count": 26,
   "metadata": {
    "colab": {
     "base_uri": "https://localhost:8080/"
    },
    "executionInfo": {
     "elapsed": 195,
     "status": "ok",
     "timestamp": 1692357198836,
     "user": {
      "displayName": "zeeshan ahmad",
      "userId": "09790783261567949831"
     },
     "user_tz": 240
    },
    "id": "7SOraozZ3Jrr",
    "outputId": "91ab371e-a06e-40d6-b24a-66c32e9e1aef"
   },
   "outputs": [
    {
     "name": "stdout",
     "output_type": "stream",
     "text": [
      "tensor([0, 2, 1, 0, 2, 2, 1, 1, 1, 2, 1, 1, 1, 2, 1, 0, 2, 2, 1, 0, 1, 2, 1, 1,\n",
      "        1, 2, 1, 1, 1, 0, 1, 2])\n"
     ]
    }
   ],
   "source": [
    "print(y)"
   ]
  },
  {
   "cell_type": "code",
   "execution_count": 27,
   "metadata": {
    "colab": {
     "base_uri": "https://localhost:8080/"
    },
    "executionInfo": {
     "elapsed": 118,
     "status": "ok",
     "timestamp": 1692357202714,
     "user": {
      "displayName": "zeeshan ahmad",
      "userId": "09790783261567949831"
     },
     "user_tz": 240
    },
    "id": "75uLaEYk3Jrs",
    "outputId": "b7673e3b-57e3-4c1c-d0a4-3251def5d1b5"
   },
   "outputs": [
    {
     "name": "stdout",
     "output_type": "stream",
     "text": [
      "torch.Size([32, 256, 1])\n",
      "torch.Size([32])\n"
     ]
    }
   ],
   "source": [
    "for x,y in test_loader:\n",
    "    break\n",
    "print(x.shape)\n",
    "print(y.shape)"
   ]
  },
  {
   "cell_type": "markdown",
   "metadata": {
    "id": "OK8Opkhgp0bO"
   },
   "source": [
    "# Creating the LSTM Model"
   ]
  },
  {
   "cell_type": "code",
   "execution_count": 28,
   "metadata": {
    "executionInfo": {
     "elapsed": 123,
     "status": "ok",
     "timestamp": 1692357312873,
     "user": {
      "displayName": "zeeshan ahmad",
      "userId": "09790783261567949831"
     },
     "user_tz": 240
    },
    "id": "JK3OO3tAtZkA"
   },
   "outputs": [],
   "source": [
    "class LSTM_model(nn.Module):\n",
    "  def __init__(self,input_size, num_hidden, num_layers):\n",
    "    super().__init__()\n",
    "\n",
    "    # Define  parameters\n",
    "\n",
    "    self.input_size = input_size\n",
    "    self.num_hidden = num_hidden\n",
    "    self.num_layers = num_layers\n",
    "\n",
    "    # LSTM Layer\n",
    "\n",
    "    self.lstm = nn.LSTM(input_size,num_hidden,num_layers, batch_first = True)\n",
    "\n",
    "    # Output Layer\n",
    "\n",
    "    self.out = nn.Linear(num_hidden,3)\n",
    "\n",
    "  def forward(self,x):\n",
    "\n",
    "    y, (h,c) = self.lstm(x)\n",
    "    out = self.out(y)    # Output shape (batch, features, hidden)\n",
    "    out = out[:,-1,:]    # Reshaped to (batch, hidden)\n",
    "\n",
    "    return out, (h,c)"
   ]
  },
  {
   "cell_type": "markdown",
   "metadata": {
    "id": "g_1sw_zG7cRG"
   },
   "source": [
    "# Setting the Parameters"
   ]
  },
  {
   "cell_type": "code",
   "execution_count": 29,
   "metadata": {
    "executionInfo": {
     "elapsed": 116,
     "status": "ok",
     "timestamp": 1692357345128,
     "user": {
      "displayName": "zeeshan ahmad",
      "userId": "09790783261567949831"
     },
     "user_tz": 240
    },
    "id": "nKW_fMPd4Z0q"
   },
   "outputs": [],
   "source": [
    "input_size  =  D     # D\n",
    "hidden_size = 200\n",
    "num_layers  =  1\n",
    "seqlength   = T      # T"
   ]
  },
  {
   "cell_type": "markdown",
   "metadata": {
    "id": "hPU6RSRv7hAN"
   },
   "source": [
    "# Create the instance of the model"
   ]
  },
  {
   "cell_type": "code",
   "execution_count": 30,
   "metadata": {
    "executionInfo": {
     "elapsed": 137,
     "status": "ok",
     "timestamp": 1692357354395,
     "user": {
      "displayName": "zeeshan ahmad",
      "userId": "09790783261567949831"
     },
     "user_tz": 240
    },
    "id": "QMlUNchY5Dxi"
   },
   "outputs": [],
   "source": [
    "lstmModel = LSTM_model (input_size, hidden_size, num_layers)"
   ]
  },
  {
   "cell_type": "markdown",
   "metadata": {
    "id": "dvfGQIRGp0ht"
   },
   "source": [
    "# Training and Testing the model"
   ]
  },
  {
   "cell_type": "code",
   "execution_count": 31,
   "metadata": {
    "colab": {
     "base_uri": "https://localhost:8080/"
    },
    "executionInfo": {
     "elapsed": 2634654,
     "status": "ok",
     "timestamp": 1692222478928,
     "user": {
      "displayName": "zeeshan ahmad",
      "userId": "09790783261567949831"
     },
     "user_tz": 240
    },
    "id": "IblJo1NCp0kl",
    "outputId": "82ef6051-d255-4ae4-97fe-92b66125ca33"
   },
   "outputs": [
    {
     "name": "stdout",
     "output_type": "stream",
     "text": [
      " epochs : 0  loss :  1.11\n",
      " epochs : 10  loss :  1.05\n",
      " epochs : 20  loss :  0.95\n",
      " epochs : 30  loss :  1.00\n",
      " epochs : 40  loss :  1.05\n",
      " epochs : 50  loss :  0.71\n",
      " epochs : 60  loss :  0.47\n",
      " epochs : 70  loss :  0.30\n",
      " epochs : 80  loss :  0.42\n",
      " epochs : 90  loss :  0.16\n",
      " epochs : 100  loss :  0.25\n",
      " epochs : 110  loss :  0.48\n",
      " epochs : 120  loss :  0.30\n"
     ]
    }
   ],
   "source": [
    "epochs = 121\n",
    "\n",
    "# Loss function\n",
    "\n",
    "lossfunc = nn.CrossEntropyLoss()\n",
    "\n",
    "# optimizer\n",
    "\n",
    "optimizer = torch.optim.SGD(lstmModel.parameters(), momentum = 0.9, lr = 0.01)\n",
    "\n",
    "lstmModel.to(device) # placing a model on GPU\n",
    "\n",
    "  # Initialize losses and Accuracies\n",
    "\n",
    "losses    = torch.zeros(epochs)\n",
    "trainAcc  = []\n",
    "testAcc   = []\n",
    "\n",
    "\n",
    "# loop over epochs\n",
    "\n",
    "for epoch in range(epochs):\n",
    " lstmModel.train()\n",
    "\n",
    " # loop over training data batches\n",
    "\n",
    " batchAcc  = []\n",
    " batchLoss = []\n",
    " for X,y in train_loader:\n",
    "\n",
    "  X = X.to(device) # Placing features on device\n",
    "  y = y.to(device) # placing labels on device\n",
    "\n",
    "  ypred, h = lstmModel(X)\n",
    "  loss = lossfunc(ypred,y)\n",
    "\n",
    "\n",
    "  optimizer.zero_grad()\n",
    "  loss.backward()\n",
    "  optimizer.step()\n",
    "\n",
    "  # Append batchloss\n",
    "\n",
    "  batchLoss.append(loss.item())\n",
    "\n",
    "  ypred = ypred.cpu() # Back to cpu\n",
    "  y = y.cpu()\n",
    "\n",
    "  # compute batch accuracy\n",
    "\n",
    "  acc = 100 * torch.mean((torch.argmax(ypred, dim=1) == y).float())\n",
    "  batchAcc.append(acc)\n",
    "# Batch loop concluded\n",
    "\n",
    "# Average training accuracy (Outside the batchloop)\n",
    "\n",
    " trainAcc.append(np.mean(batchAcc))\n",
    "\n",
    "# Losses through epochs\n",
    "\n",
    " losses[epoch] = np.mean(batchLoss)\n",
    "\n",
    "# TESTING the model\n",
    "\n",
    " lstmModel.eval()\n",
    "\n",
    " with torch.no_grad():\n",
    "\n",
    "    for X,y in test_loader:\n",
    "\n",
    "            X = X.to(device)\n",
    "            y = y.to(device)\n",
    "\n",
    "\n",
    "            ypred, h =  lstmModel(X)\n",
    "            ypred = ypred.cpu()\n",
    "            y = y.cpu()\n",
    "\n",
    " with torch.no_grad(): #This step  Deactivating autogradient\n",
    "  ypred, h = lstmModel(X)\n",
    "  ypred = ypred.cpu()\n",
    "  y = y.cpu()\n",
    "\n",
    " # Appending test accuracy\n",
    "\n",
    "  testAcc.append(100 * torch.mean((torch.argmax(ypred,dim=1)==y).float()))\n",
    "  if (epoch % 10) == 0:\n",
    "\n",
    "        print(f' epochs : {epoch}  loss : {loss : 2.2f}')\n"
   ]
  },
  {
   "cell_type": "markdown",
   "metadata": {
    "id": "sk3WzZFM3Jrw"
   },
   "source": [
    "# Plotting and Visualizing the Results"
   ]
  },
  {
   "cell_type": "code",
   "execution_count": 32,
   "metadata": {
    "colab": {
     "base_uri": "https://localhost:8080/",
     "height": 454
    },
    "executionInfo": {
     "elapsed": 562,
     "status": "ok",
     "timestamp": 1692222479487,
     "user": {
      "displayName": "zeeshan ahmad",
      "userId": "09790783261567949831"
     },
     "user_tz": 240
    },
    "id": "gHzKOZjnp0qn",
    "outputId": "e2ae19c3-e9df-4ded-b76a-f88cc334465a"
   },
   "outputs": [
    {
     "data": {
      "image/png": "[encoded data removed]",
      "text/plain": [
       "<Figure size 1296x432 with 2 Axes>"
      ]
     },
     "metadata": {},
     "output_type": "display_data"
    }
   ],
   "source": [
    "fig,ax = plt.subplots(1,2,figsize=(18,6))\n",
    "\n",
    "ax[0].plot(losses,'g', lw = 3)\n",
    "ax[0].set_xlabel('Epochs', fontsize = 15)\n",
    "ax[0].set_ylabel('Loss', fontsize = 15)\n",
    "ax[0].legend(['Train','Test'], fontsize = 15)\n",
    "ax[0].set_title('Training loss', fontsize = 25)\n",
    "\n",
    "ax[1].plot(trainAcc,label='Training Acc', lw =3)\n",
    "ax[1].plot(testAcc,label='Testing Acc', lw = 3)\n",
    "ax[1].set_xlabel('Epochs', fontsize = 15)\n",
    "ax[1].set_ylabel('Accuracy (%)', fontsize = 15)\n",
    "ax[1].set_ylim([10,100])\n",
    "ax[1].set_title(f'Train Accuracy: {trainAcc[-1]:.2f}% \\n Test Accuracy: {testAcc[-1]:.2f}%', fontsize = 15)\n",
    "ax[1].legend(fontsize = 15)\n",
    "\n",
    "plt.show()"
   ]
  },
  {
   "cell_type": "code",
   "execution_count": null,
   "metadata": {
    "id": "PjQj5ix83JsD"
   },
   "outputs": [],
   "source": []
  },
  {
   "cell_type": "code",
   "execution_count": null,
   "metadata": {},
   "outputs": [],
   "source": []
  },
  {
   "cell_type": "code",
   "execution_count": null,
   "metadata": {},
   "outputs": [],
   "source": []
  },
  {
   "cell_type": "code",
   "execution_count": null,
   "metadata": {},
   "outputs": [],
   "source": []
  },
  {
   "cell_type": "code",
   "execution_count": null,
   "metadata": {},
   "outputs": [],
   "source": []
  },
  {
   "cell_type": "code",
   "execution_count": 20,
   "metadata": {},
   "outputs": [],
   "source": [
    "xx = np.random.randn(4,3,2)"
   ]
  },
  {
   "cell_type": "code",
   "execution_count": 21,
   "metadata": {},
   "outputs": [
    {
     "data": {
      "text/plain": [
       "array([[[ 0.55645975,  1.19297379],\n",
       "        [-0.08923726, -1.03415453],\n",
       "        [-0.9507372 , -0.05302183]],\n",
       "\n",
       "       [[-0.50115662, -1.51877869],\n",
       "        [-0.75248715,  0.12347839],\n",
       "        [-1.61803453, -0.58328756]],\n",
       "\n",
       "       [[ 0.95386948, -1.83313239],\n",
       "        [ 0.97772266,  1.23565017],\n",
       "        [-0.86270475,  0.55672399]],\n",
       "\n",
       "       [[-0.40878583,  0.56958667],\n",
       "        [-2.48374566, -1.02622396],\n",
       "        [-0.38493198,  0.54624733]]])"
      ]
     },
     "execution_count": 21,
     "metadata": {},
     "output_type": "execute_result"
    }
   ],
   "source": [
    "xx"
   ]
  },
  {
   "cell_type": "code",
   "execution_count": 22,
   "metadata": {},
   "outputs": [
    {
     "data": {
      "text/plain": [
       "array([[-0.9507372 , -0.05302183],\n",
       "       [-1.61803453, -0.58328756],\n",
       "       [-0.86270475,  0.55672399],\n",
       "       [-0.38493198,  0.54624733]])"
      ]
     },
     "execution_count": 22,
     "metadata": {},
     "output_type": "execute_result"
    }
   ],
   "source": [
    "xx[:,-1,:]"
   ]
  },
  {
   "cell_type": "code",
   "execution_count": 23,
   "metadata": {},
   "outputs": [
    {
     "data": {
      "text/plain": [
       "(4, 2)"
      ]
     },
     "execution_count": 23,
     "metadata": {},
     "output_type": "execute_result"
    }
   ],
   "source": [
    "xx[:,-1,:].shape"
   ]
  },
  {
   "cell_type": "code",
   "execution_count": null,
   "metadata": {},
   "outputs": [],
   "source": []
  }
 ],
 "metadata": {
  "accelerator": "GPU",
  "colab": {
   "gpuType": "T4",
   "provenance": [
    {
     "file_id": "1FcEBC0NAESIlHQkv6_85R-XDUKGE8XbM",
     "timestamp": 1617815797362
    },
    {
     "file_id": "1qKgZ8kVcqNgwtBzHbWq5yJH_HqI6DxWW",
     "timestamp": 1617803880910
    },
    {
     "file_id": "15cpyHkJ435B4MqbyGjAH1poN4nCy_DE4",
     "timestamp": 1617737766196
    },
    {
     "file_id": "1OLuWuaFu0hcFgkQ2hh5BqbRuqUZD7XcQ",
     "timestamp": 1617734878578
    },
    {
     "file_id": "1XvzVGJPTJifVh8OpZVB7ykLxyUqYwQ1j",
     "timestamp": 1617196833019
    },
    {
     "file_id": "1bv1_y32e3KEExFKKlPfC3rpw1JxmBr8H",
     "timestamp": 1617124341706
    },
    {
     "file_id": "1GMq8u7KyHB2AE7Teyls9gK1T01OduQSn",
     "timestamp": 1616697516760
    },
    {
     "file_id": "1Ui3kyHim-e0XLgDs2mkBxVlYg7TKYtcg",
     "timestamp": 1616615469755
    },
    {
     "file_id": "1YpHocGI4rApOxIBb1ZghCU5L-hFnv4CK",
     "timestamp": 1616608248670
    }
   ]
  },
  "kernelspec": {
   "display_name": "Python 3 (ipykernel)",
   "language": "python",
   "name": "python3"
  },
  "language_info": {
   "codemirror_mode": {
    "name": "ipython",
    "version": 3
   },
   "file_extension": ".py",
   "mimetype": "text/x-python",
   "name": "python",
   "nbconvert_exporter": "python",
   "pygments_lexer": "ipython3",
   "version": "3.9.7"
  }
 },
 "nbformat": 4,
 "nbformat_minor": 1
}
