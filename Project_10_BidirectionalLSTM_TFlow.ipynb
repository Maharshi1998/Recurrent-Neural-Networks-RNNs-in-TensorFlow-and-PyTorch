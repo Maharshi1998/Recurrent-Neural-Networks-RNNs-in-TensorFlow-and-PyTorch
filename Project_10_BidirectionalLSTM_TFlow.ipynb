{
 "cells": [
  {
   "cell_type": "code",
   "execution_count": 1,
   "id": "32edd762",
   "metadata": {},
   "outputs": [],
   "source": [
    "from keras.models import Model\n",
    "from keras.layers import Input, LSTM, Bidirectional\n",
    "import numpy as np\n",
    "import matplotlib.pyplot as plt"
   ]
  },
  {
   "cell_type": "markdown",
   "id": "578bf517",
   "metadata": {},
   "source": [
    "# When return_state=True, return_sequences=False"
   ]
  },
  {
   "cell_type": "code",
   "execution_count": 3,
   "id": "59caddff",
   "metadata": {},
   "outputs": [],
   "source": [
    "T = 4  # time steps\n",
    "D = 2 # features\n",
    "H = 3 # LSTM Units\n",
    "\n",
    "\n",
    "X = np.random.randn(1, T, D)\n",
    "input = Input(shape=(T, D))\n",
    "rnn = Bidirectional(LSTM(H, return_state=True, return_sequences=False))\n",
    "\n",
    "x = rnn(input)\n",
    "\n",
    "model = Model(inputs=input, outputs=x)\n"
   ]
  },
  {
   "cell_type": "code",
   "execution_count": 4,
   "id": "4116424f",
   "metadata": {},
   "outputs": [
    {
     "name": "stdout",
     "output_type": "stream",
     "text": [
      "1/1 [==============================] - 1s 888ms/step\n",
      "o: [[-0.5642065  -0.2150891   0.28432596 -0.02964858  0.13378094  0.18746464]]\n",
      "o.shape: (1, 6)\n",
      "h1: [[-0.5642065  -0.2150891   0.28432596]]\n",
      "c1: [[-0.9535657  -0.36262524  0.7688521 ]]\n",
      "h2: [[-0.02964858  0.13378094  0.18746464]]\n",
      "c2: [[-0.10469503  0.3923661   0.5175574 ]]\n"
     ]
    }
   ],
   "source": [
    "o, h1, c1, h2, c2 = model.predict(X)\n",
    "print(\"o:\", o) # Concatenation of both hidden states 1.e forward and backward. \n",
    "print(\"o.shape:\", o.shape)\n",
    "print(\"h1:\", h1)\n",
    "print(\"c1:\", c1)\n",
    "print(\"h2:\", h2)\n",
    "print(\"c2:\", c2)"
   ]
  },
  {
   "cell_type": "code",
   "execution_count": null,
   "id": "b23fddf3",
   "metadata": {},
   "outputs": [],
   "source": []
  },
  {
   "cell_type": "markdown",
   "id": "608bba0a",
   "metadata": {},
   "source": [
    "# When return_state=True, return_sequences=True"
   ]
  },
  {
   "cell_type": "code",
   "execution_count": 5,
   "id": "dbf3a846",
   "metadata": {},
   "outputs": [],
   "source": [
    "rnn = Bidirectional(LSTM(H, return_state=True, return_sequences=True))"
   ]
  },
  {
   "cell_type": "code",
   "execution_count": 6,
   "id": "425f8d80",
   "metadata": {},
   "outputs": [],
   "source": [
    "x = rnn(input)\n",
    "\n",
    "model = Model(inputs=input, outputs=x)"
   ]
  },
  {
   "cell_type": "code",
   "execution_count": 8,
   "id": "380a67d6",
   "metadata": {
    "scrolled": true
   },
   "outputs": [
    {
     "name": "stdout",
     "output_type": "stream",
     "text": [
      "1/1 [==============================] - 0s 16ms/step\n",
      "o: [[[ 0.05795924 -0.13182499 -0.13032772 -0.1562573  -0.15598176\n",
      "    0.13549729]\n",
      "  [ 0.08894467 -0.11277059 -0.2863923  -0.3406631  -0.17318507\n",
      "    0.05753764]\n",
      "  [ 0.16687028 -0.0064302  -0.11998075 -0.5023812  -0.12998165\n",
      "   -0.16576369]\n",
      "  [-0.07856043  0.15468927  0.02014319 -0.17570981  0.02693602\n",
      "   -0.13814335]]]\n",
      "o.shape: (1, 4, 6)\n",
      "h1: [[-0.07856043  0.15468927  0.02014319]]\n",
      "c1: [[-0.11180839  0.29572147  0.0734904 ]]\n",
      "h2: [[-0.1562573  -0.15598176  0.13549729]]\n",
      "c2: [[-0.35304087 -0.37949014  0.3055842 ]]\n"
     ]
    }
   ],
   "source": [
    "o, h1, c1, h2, c2 = model.predict(X)\n",
    "print(\"o:\", o)\n",
    "print(\"o.shape:\", o.shape) # T x 2H\n",
    "print(\"h1:\", h1)\n",
    "print(\"c1:\", c1)\n",
    "print(\"h2:\", h2) # h2 is the final hidden state for the backward LSTM. So going from front to back the final hidden state for\n",
    "                 # backward LSTM should be at the front of the sequence\n",
    "print(\"c2:\", c2)"
   ]
  },
  {
   "cell_type": "code",
   "execution_count": null,
   "id": "40f1f2b1",
   "metadata": {},
   "outputs": [],
   "source": []
  },
  {
   "cell_type": "code",
   "execution_count": null,
   "id": "d8872fcf",
   "metadata": {},
   "outputs": [],
   "source": []
  },
  {
   "cell_type": "code",
   "execution_count": null,
   "id": "3f7d6174",
   "metadata": {},
   "outputs": [],
   "source": []
  }
 ],
 "metadata": {
  "kernelspec": {
   "display_name": "Python 3 (ipykernel)",
   "language": "python",
   "name": "python3"
  },
  "language_info": {
   "codemirror_mode": {
    "name": "ipython",
    "version": 3
   },
   "file_extension": ".py",
   "mimetype": "text/x-python",
   "name": "python",
   "nbconvert_exporter": "python",
   "pygments_lexer": "ipython3",
   "version": "3.9.7"
  }
 },
 "nbformat": 4,
 "nbformat_minor": 5
}
